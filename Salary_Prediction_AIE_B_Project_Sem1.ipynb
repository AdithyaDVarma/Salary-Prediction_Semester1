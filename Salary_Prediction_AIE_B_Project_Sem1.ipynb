{
  "cells": [
    {
      "cell_type": "markdown",
      "metadata": {
        "id": "view-in-github",
        "colab_type": "text"
      },
      "source": [
        "<a href=\"https://colab.research.google.com/github/AdithyaDVarma/Salary-Prediction_Semester1/blob/main/Salary_Prediction_AIE_B_Project_Sem1.ipynb\" target=\"_parent\"><img src=\"https://colab.research.google.com/assets/colab-badge.svg\" alt=\"Open In Colab\"/></a>"
      ]
    },
    {
      "cell_type": "code",
      "execution_count": 735,
      "metadata": {
        "id": "SjLA6oWjJYRS"
      },
      "outputs": [],
      "source": [
        "# importing the necessary modules and packages\n",
        "import os\n",
        "import numpy as np  \n",
        "import pandas as pd  \n",
        "import matplotlib.pyplot as plt  \n",
        "import seaborn as sns  \n",
        "from sklearn import linear_model \n",
        "import statsmodels.formula.api as smf"
      ]
    },
    {
      "cell_type": "markdown",
      "metadata": {
        "id": "X49yzfZpeZeP"
      },
      "source": [
        "**DATA HANDLING**"
      ]
    },
    {
      "cell_type": "code",
      "source": [
        "#Creating the YearsExperience vs Salary data using training set csv\n",
        "import csv\n",
        "import random\n",
        "f=open(\"Trainingset.csv\",\"w\")\n",
        "w=csv.writer(f)\n",
        "w.writerow([\"Age\",\"YearsExperience\",\"Years of Education\",\"QYearsExperience\",\"CYearsExperience\",\"CombinedParameter\",\"Salary\"])\n",
        "\n",
        "for i in range(500):\n",
        "  age=random.uniform(24,65)\n",
        "  if age>=24 and age<=30:\n",
        "      exp=random.uniform(1,4.3)\n",
        "      educ=random.randint(3,6)\n",
        "      sal=random.uniform(40000.7,60000.54)\n",
        "  elif age>=31 and age<=40:\n",
        "      exp=random.uniform(4.6,7.8)\n",
        "      educ=random.randint(3,7)\n",
        "      sal=random.uniform(50000.7,80000.54)\n",
        "  elif age>=41 and age<=50:\n",
        "      exp=random.uniform(7,12)\n",
        "      educ=random.randint(5,9)\n",
        "      sal=random.uniform(60000.7,90000.54)\n",
        "  elif age>=51:\n",
        "      exp=random.uniform(12,20)\n",
        "      educ=random.randint(3,9)\n",
        "      sal=random.uniform(50000.7,100000.54)\n",
        "      w.writerow([age,exp,educ,exp**2,exp**3,(age+exp)*educ,sal])\n",
        "f.close()\n",
        "\n",
        "f=open(\"Testset.csv\",\"w\")\n",
        "w=csv.writer(f)\n",
        "w.writerow([\"Age\",\"YearsExperience\",\"Years of Education\",\"QYearsExperience\",\"CYearsExperience\",\"CombinedParameter\",\"Salary\"])\n",
        "\n",
        "for i in range(500):\n",
        "  age=random.uniform(24,65)\n",
        "  if age>=24 and age<=30:\n",
        "      exp=random.uniform(1,4.3)\n",
        "      educ=random.randint(3,6)\n",
        "      sal=random.uniform(40000.7,60000.54)\n",
        "  elif age>=31 and age<=40:\n",
        "      exp=random.uniform(4.6,7.8)\n",
        "      educ=random.randint(3,7)\n",
        "      sal=random.uniform(50000.7,80000.54)\n",
        "  elif age>=41 and age<=50:\n",
        "      exp=random.uniform(7,12)\n",
        "      educ=random.randint(5,9)\n",
        "      sal=random.uniform(60000.7,90000.54)\n",
        "  elif age>=51:\n",
        "      exp=random.uniform(12,20)\n",
        "      educ=random.randint(3,9)\n",
        "      sal=random.uniform(50000.7,100000.54)\n",
        "      w.writerow([age,exp,educ,exp**2,exp**3,(age+exp)*educ,sal])\n",
        "f.close()\n",
        "\n",
        "\n"
      ],
      "metadata": {
        "id": "-zVrGlSxjLXY"
      },
      "execution_count": 736,
      "outputs": []
    },
    {
      "cell_type": "code",
      "execution_count": 737,
      "metadata": {
        "colab": {
          "base_uri": "https://localhost:8080/",
          "height": 206
        },
        "id": "Wf51Sg-cae6G",
        "outputId": "08eb2f51-7248-4e01-95dc-afbd120bfabf"
      },
      "outputs": [
        {
          "output_type": "execute_result",
          "data": {
            "text/plain": [
              "         Age  YearsExperience  Years of Education  QYearsExperience  \\\n",
              "0  54.796262        14.552752                   9        211.782583   \n",
              "1  52.774087        14.169074                   7        200.762647   \n",
              "2  52.497483        14.486505                   5        209.858838   \n",
              "3  55.012830        15.776872                   6        248.909683   \n",
              "4  59.144511        16.275620                   6        264.895815   \n",
              "\n",
              "   CYearsExperience  CombinedParameter        Salary  \n",
              "0       3082.019357         624.141124  91019.026218  \n",
              "1       2844.620717         468.602126  65338.199471  \n",
              "2       3040.121191         334.919942  84974.970717  \n",
              "3       3927.016155         424.738210  79080.958366  \n",
              "4       4311.343690         452.520789  62774.559215  "
            ],
            "text/html": [
              "\n",
              "  <div id=\"df-0aaac02b-3398-4da5-a48d-f9bdecd83a8c\">\n",
              "    <div class=\"colab-df-container\">\n",
              "      <div>\n",
              "<style scoped>\n",
              "    .dataframe tbody tr th:only-of-type {\n",
              "        vertical-align: middle;\n",
              "    }\n",
              "\n",
              "    .dataframe tbody tr th {\n",
              "        vertical-align: top;\n",
              "    }\n",
              "\n",
              "    .dataframe thead th {\n",
              "        text-align: right;\n",
              "    }\n",
              "</style>\n",
              "<table border=\"1\" class=\"dataframe\">\n",
              "  <thead>\n",
              "    <tr style=\"text-align: right;\">\n",
              "      <th></th>\n",
              "      <th>Age</th>\n",
              "      <th>YearsExperience</th>\n",
              "      <th>Years of Education</th>\n",
              "      <th>QYearsExperience</th>\n",
              "      <th>CYearsExperience</th>\n",
              "      <th>CombinedParameter</th>\n",
              "      <th>Salary</th>\n",
              "    </tr>\n",
              "  </thead>\n",
              "  <tbody>\n",
              "    <tr>\n",
              "      <th>0</th>\n",
              "      <td>54.796262</td>\n",
              "      <td>14.552752</td>\n",
              "      <td>9</td>\n",
              "      <td>211.782583</td>\n",
              "      <td>3082.019357</td>\n",
              "      <td>624.141124</td>\n",
              "      <td>91019.026218</td>\n",
              "    </tr>\n",
              "    <tr>\n",
              "      <th>1</th>\n",
              "      <td>52.774087</td>\n",
              "      <td>14.169074</td>\n",
              "      <td>7</td>\n",
              "      <td>200.762647</td>\n",
              "      <td>2844.620717</td>\n",
              "      <td>468.602126</td>\n",
              "      <td>65338.199471</td>\n",
              "    </tr>\n",
              "    <tr>\n",
              "      <th>2</th>\n",
              "      <td>52.497483</td>\n",
              "      <td>14.486505</td>\n",
              "      <td>5</td>\n",
              "      <td>209.858838</td>\n",
              "      <td>3040.121191</td>\n",
              "      <td>334.919942</td>\n",
              "      <td>84974.970717</td>\n",
              "    </tr>\n",
              "    <tr>\n",
              "      <th>3</th>\n",
              "      <td>55.012830</td>\n",
              "      <td>15.776872</td>\n",
              "      <td>6</td>\n",
              "      <td>248.909683</td>\n",
              "      <td>3927.016155</td>\n",
              "      <td>424.738210</td>\n",
              "      <td>79080.958366</td>\n",
              "    </tr>\n",
              "    <tr>\n",
              "      <th>4</th>\n",
              "      <td>59.144511</td>\n",
              "      <td>16.275620</td>\n",
              "      <td>6</td>\n",
              "      <td>264.895815</td>\n",
              "      <td>4311.343690</td>\n",
              "      <td>452.520789</td>\n",
              "      <td>62774.559215</td>\n",
              "    </tr>\n",
              "  </tbody>\n",
              "</table>\n",
              "</div>\n",
              "      <button class=\"colab-df-convert\" onclick=\"convertToInteractive('df-0aaac02b-3398-4da5-a48d-f9bdecd83a8c')\"\n",
              "              title=\"Convert this dataframe to an interactive table.\"\n",
              "              style=\"display:none;\">\n",
              "        \n",
              "  <svg xmlns=\"http://www.w3.org/2000/svg\" height=\"24px\"viewBox=\"0 0 24 24\"\n",
              "       width=\"24px\">\n",
              "    <path d=\"M0 0h24v24H0V0z\" fill=\"none\"/>\n",
              "    <path d=\"M18.56 5.44l.94 2.06.94-2.06 2.06-.94-2.06-.94-.94-2.06-.94 2.06-2.06.94zm-11 1L8.5 8.5l.94-2.06 2.06-.94-2.06-.94L8.5 2.5l-.94 2.06-2.06.94zm10 10l.94 2.06.94-2.06 2.06-.94-2.06-.94-.94-2.06-.94 2.06-2.06.94z\"/><path d=\"M17.41 7.96l-1.37-1.37c-.4-.4-.92-.59-1.43-.59-.52 0-1.04.2-1.43.59L10.3 9.45l-7.72 7.72c-.78.78-.78 2.05 0 2.83L4 21.41c.39.39.9.59 1.41.59.51 0 1.02-.2 1.41-.59l7.78-7.78 2.81-2.81c.8-.78.8-2.07 0-2.86zM5.41 20L4 18.59l7.72-7.72 1.47 1.35L5.41 20z\"/>\n",
              "  </svg>\n",
              "      </button>\n",
              "      \n",
              "  <style>\n",
              "    .colab-df-container {\n",
              "      display:flex;\n",
              "      flex-wrap:wrap;\n",
              "      gap: 12px;\n",
              "    }\n",
              "\n",
              "    .colab-df-convert {\n",
              "      background-color: #E8F0FE;\n",
              "      border: none;\n",
              "      border-radius: 50%;\n",
              "      cursor: pointer;\n",
              "      display: none;\n",
              "      fill: #1967D2;\n",
              "      height: 32px;\n",
              "      padding: 0 0 0 0;\n",
              "      width: 32px;\n",
              "    }\n",
              "\n",
              "    .colab-df-convert:hover {\n",
              "      background-color: #E2EBFA;\n",
              "      box-shadow: 0px 1px 2px rgba(60, 64, 67, 0.3), 0px 1px 3px 1px rgba(60, 64, 67, 0.15);\n",
              "      fill: #174EA6;\n",
              "    }\n",
              "\n",
              "    [theme=dark] .colab-df-convert {\n",
              "      background-color: #3B4455;\n",
              "      fill: #D2E3FC;\n",
              "    }\n",
              "\n",
              "    [theme=dark] .colab-df-convert:hover {\n",
              "      background-color: #434B5C;\n",
              "      box-shadow: 0px 1px 3px 1px rgba(0, 0, 0, 0.15);\n",
              "      filter: drop-shadow(0px 1px 2px rgba(0, 0, 0, 0.3));\n",
              "      fill: #FFFFFF;\n",
              "    }\n",
              "  </style>\n",
              "\n",
              "      <script>\n",
              "        const buttonEl =\n",
              "          document.querySelector('#df-0aaac02b-3398-4da5-a48d-f9bdecd83a8c button.colab-df-convert');\n",
              "        buttonEl.style.display =\n",
              "          google.colab.kernel.accessAllowed ? 'block' : 'none';\n",
              "\n",
              "        async function convertToInteractive(key) {\n",
              "          const element = document.querySelector('#df-0aaac02b-3398-4da5-a48d-f9bdecd83a8c');\n",
              "          const dataTable =\n",
              "            await google.colab.kernel.invokeFunction('convertToInteractive',\n",
              "                                                     [key], {});\n",
              "          if (!dataTable) return;\n",
              "\n",
              "          const docLinkHtml = 'Like what you see? Visit the ' +\n",
              "            '<a target=\"_blank\" href=https://colab.research.google.com/notebooks/data_table.ipynb>data table notebook</a>'\n",
              "            + ' to learn more about interactive tables.';\n",
              "          element.innerHTML = '';\n",
              "          dataTable['output_type'] = 'display_data';\n",
              "          await google.colab.output.renderOutput(dataTable, element);\n",
              "          const docLink = document.createElement('div');\n",
              "          docLink.innerHTML = docLinkHtml;\n",
              "          element.appendChild(docLink);\n",
              "        }\n",
              "      </script>\n",
              "    </div>\n",
              "  </div>\n",
              "  "
            ]
          },
          "metadata": {},
          "execution_count": 737
        }
      ],
      "source": [
        "# Initializing the trainingset and testset data objects using pandas\n",
        "Testset = pd.read_csv(\"Testset.csv\")\n",
        "Training = pd.read_csv(\"Trainingset.csv\") \n",
        "\n",
        "#The head() function is used to get the first few rows of the Testset\n",
        "Testset.head()"
      ]
    },
    {
      "cell_type": "code",
      "execution_count": 738,
      "metadata": {
        "colab": {
          "base_uri": "https://localhost:8080/",
          "height": 300
        },
        "id": "i40kk9fGe5-l",
        "outputId": "ae20fbd6-3c54-4b26-e160-2f555ba1ad44"
      },
      "outputs": [
        {
          "output_type": "execute_result",
          "data": {
            "text/plain": [
              "              Age  YearsExperience  Years of Education  QYearsExperience  \\\n",
              "count  183.000000       183.000000          183.000000        183.000000   \n",
              "mean    57.293947        16.079276            6.027322        263.317628   \n",
              "std      4.052202         2.191061            1.987410         71.025472   \n",
              "min     51.022176        12.230163            3.000000        149.576886   \n",
              "25%     53.782454        14.479398            4.000000        209.653007   \n",
              "50%     57.063546        15.882258            6.000000        252.246115   \n",
              "75%     61.155038        17.852257            8.000000        318.703741   \n",
              "max     64.892420        19.969557            9.000000        398.783188   \n",
              "\n",
              "       CYearsExperience  CombinedParameter        Salary  \n",
              "count        183.000000         183.000000    183.000000  \n",
              "mean        4388.390295         441.503718  76525.906832  \n",
              "std         1754.417970         146.435687  14434.452248  \n",
              "min         1829.349692         196.997822  50008.258550  \n",
              "25%         3035.650717         322.867183  65683.948293  \n",
              "50%         4006.237842         453.598869  76637.561433  \n",
              "75%         5689.604972         565.218260  89415.287403  \n",
              "max         7963.523430         737.361444  99697.501785  "
            ],
            "text/html": [
              "\n",
              "  <div id=\"df-b56c985c-86cd-4e83-ba4a-8a821fe4727a\">\n",
              "    <div class=\"colab-df-container\">\n",
              "      <div>\n",
              "<style scoped>\n",
              "    .dataframe tbody tr th:only-of-type {\n",
              "        vertical-align: middle;\n",
              "    }\n",
              "\n",
              "    .dataframe tbody tr th {\n",
              "        vertical-align: top;\n",
              "    }\n",
              "\n",
              "    .dataframe thead th {\n",
              "        text-align: right;\n",
              "    }\n",
              "</style>\n",
              "<table border=\"1\" class=\"dataframe\">\n",
              "  <thead>\n",
              "    <tr style=\"text-align: right;\">\n",
              "      <th></th>\n",
              "      <th>Age</th>\n",
              "      <th>YearsExperience</th>\n",
              "      <th>Years of Education</th>\n",
              "      <th>QYearsExperience</th>\n",
              "      <th>CYearsExperience</th>\n",
              "      <th>CombinedParameter</th>\n",
              "      <th>Salary</th>\n",
              "    </tr>\n",
              "  </thead>\n",
              "  <tbody>\n",
              "    <tr>\n",
              "      <th>count</th>\n",
              "      <td>183.000000</td>\n",
              "      <td>183.000000</td>\n",
              "      <td>183.000000</td>\n",
              "      <td>183.000000</td>\n",
              "      <td>183.000000</td>\n",
              "      <td>183.000000</td>\n",
              "      <td>183.000000</td>\n",
              "    </tr>\n",
              "    <tr>\n",
              "      <th>mean</th>\n",
              "      <td>57.293947</td>\n",
              "      <td>16.079276</td>\n",
              "      <td>6.027322</td>\n",
              "      <td>263.317628</td>\n",
              "      <td>4388.390295</td>\n",
              "      <td>441.503718</td>\n",
              "      <td>76525.906832</td>\n",
              "    </tr>\n",
              "    <tr>\n",
              "      <th>std</th>\n",
              "      <td>4.052202</td>\n",
              "      <td>2.191061</td>\n",
              "      <td>1.987410</td>\n",
              "      <td>71.025472</td>\n",
              "      <td>1754.417970</td>\n",
              "      <td>146.435687</td>\n",
              "      <td>14434.452248</td>\n",
              "    </tr>\n",
              "    <tr>\n",
              "      <th>min</th>\n",
              "      <td>51.022176</td>\n",
              "      <td>12.230163</td>\n",
              "      <td>3.000000</td>\n",
              "      <td>149.576886</td>\n",
              "      <td>1829.349692</td>\n",
              "      <td>196.997822</td>\n",
              "      <td>50008.258550</td>\n",
              "    </tr>\n",
              "    <tr>\n",
              "      <th>25%</th>\n",
              "      <td>53.782454</td>\n",
              "      <td>14.479398</td>\n",
              "      <td>4.000000</td>\n",
              "      <td>209.653007</td>\n",
              "      <td>3035.650717</td>\n",
              "      <td>322.867183</td>\n",
              "      <td>65683.948293</td>\n",
              "    </tr>\n",
              "    <tr>\n",
              "      <th>50%</th>\n",
              "      <td>57.063546</td>\n",
              "      <td>15.882258</td>\n",
              "      <td>6.000000</td>\n",
              "      <td>252.246115</td>\n",
              "      <td>4006.237842</td>\n",
              "      <td>453.598869</td>\n",
              "      <td>76637.561433</td>\n",
              "    </tr>\n",
              "    <tr>\n",
              "      <th>75%</th>\n",
              "      <td>61.155038</td>\n",
              "      <td>17.852257</td>\n",
              "      <td>8.000000</td>\n",
              "      <td>318.703741</td>\n",
              "      <td>5689.604972</td>\n",
              "      <td>565.218260</td>\n",
              "      <td>89415.287403</td>\n",
              "    </tr>\n",
              "    <tr>\n",
              "      <th>max</th>\n",
              "      <td>64.892420</td>\n",
              "      <td>19.969557</td>\n",
              "      <td>9.000000</td>\n",
              "      <td>398.783188</td>\n",
              "      <td>7963.523430</td>\n",
              "      <td>737.361444</td>\n",
              "      <td>99697.501785</td>\n",
              "    </tr>\n",
              "  </tbody>\n",
              "</table>\n",
              "</div>\n",
              "      <button class=\"colab-df-convert\" onclick=\"convertToInteractive('df-b56c985c-86cd-4e83-ba4a-8a821fe4727a')\"\n",
              "              title=\"Convert this dataframe to an interactive table.\"\n",
              "              style=\"display:none;\">\n",
              "        \n",
              "  <svg xmlns=\"http://www.w3.org/2000/svg\" height=\"24px\"viewBox=\"0 0 24 24\"\n",
              "       width=\"24px\">\n",
              "    <path d=\"M0 0h24v24H0V0z\" fill=\"none\"/>\n",
              "    <path d=\"M18.56 5.44l.94 2.06.94-2.06 2.06-.94-2.06-.94-.94-2.06-.94 2.06-2.06.94zm-11 1L8.5 8.5l.94-2.06 2.06-.94-2.06-.94L8.5 2.5l-.94 2.06-2.06.94zm10 10l.94 2.06.94-2.06 2.06-.94-2.06-.94-.94-2.06-.94 2.06-2.06.94z\"/><path d=\"M17.41 7.96l-1.37-1.37c-.4-.4-.92-.59-1.43-.59-.52 0-1.04.2-1.43.59L10.3 9.45l-7.72 7.72c-.78.78-.78 2.05 0 2.83L4 21.41c.39.39.9.59 1.41.59.51 0 1.02-.2 1.41-.59l7.78-7.78 2.81-2.81c.8-.78.8-2.07 0-2.86zM5.41 20L4 18.59l7.72-7.72 1.47 1.35L5.41 20z\"/>\n",
              "  </svg>\n",
              "      </button>\n",
              "      \n",
              "  <style>\n",
              "    .colab-df-container {\n",
              "      display:flex;\n",
              "      flex-wrap:wrap;\n",
              "      gap: 12px;\n",
              "    }\n",
              "\n",
              "    .colab-df-convert {\n",
              "      background-color: #E8F0FE;\n",
              "      border: none;\n",
              "      border-radius: 50%;\n",
              "      cursor: pointer;\n",
              "      display: none;\n",
              "      fill: #1967D2;\n",
              "      height: 32px;\n",
              "      padding: 0 0 0 0;\n",
              "      width: 32px;\n",
              "    }\n",
              "\n",
              "    .colab-df-convert:hover {\n",
              "      background-color: #E2EBFA;\n",
              "      box-shadow: 0px 1px 2px rgba(60, 64, 67, 0.3), 0px 1px 3px 1px rgba(60, 64, 67, 0.15);\n",
              "      fill: #174EA6;\n",
              "    }\n",
              "\n",
              "    [theme=dark] .colab-df-convert {\n",
              "      background-color: #3B4455;\n",
              "      fill: #D2E3FC;\n",
              "    }\n",
              "\n",
              "    [theme=dark] .colab-df-convert:hover {\n",
              "      background-color: #434B5C;\n",
              "      box-shadow: 0px 1px 3px 1px rgba(0, 0, 0, 0.15);\n",
              "      filter: drop-shadow(0px 1px 2px rgba(0, 0, 0, 0.3));\n",
              "      fill: #FFFFFF;\n",
              "    }\n",
              "  </style>\n",
              "\n",
              "      <script>\n",
              "        const buttonEl =\n",
              "          document.querySelector('#df-b56c985c-86cd-4e83-ba4a-8a821fe4727a button.colab-df-convert');\n",
              "        buttonEl.style.display =\n",
              "          google.colab.kernel.accessAllowed ? 'block' : 'none';\n",
              "\n",
              "        async function convertToInteractive(key) {\n",
              "          const element = document.querySelector('#df-b56c985c-86cd-4e83-ba4a-8a821fe4727a');\n",
              "          const dataTable =\n",
              "            await google.colab.kernel.invokeFunction('convertToInteractive',\n",
              "                                                     [key], {});\n",
              "          if (!dataTable) return;\n",
              "\n",
              "          const docLinkHtml = 'Like what you see? Visit the ' +\n",
              "            '<a target=\"_blank\" href=https://colab.research.google.com/notebooks/data_table.ipynb>data table notebook</a>'\n",
              "            + ' to learn more about interactive tables.';\n",
              "          element.innerHTML = '';\n",
              "          dataTable['output_type'] = 'display_data';\n",
              "          await google.colab.output.renderOutput(dataTable, element);\n",
              "          const docLink = document.createElement('div');\n",
              "          docLink.innerHTML = docLinkHtml;\n",
              "          element.appendChild(docLink);\n",
              "        }\n",
              "      </script>\n",
              "    </div>\n",
              "  </div>\n",
              "  "
            ]
          },
          "metadata": {},
          "execution_count": 738
        }
      ],
      "source": [
        "# Using the data object  to find some general values like mean, minimum etc\n",
        "Testset.describe()"
      ]
    },
    {
      "cell_type": "code",
      "execution_count": 739,
      "metadata": {
        "colab": {
          "base_uri": "https://localhost:8080/",
          "height": 269
        },
        "id": "L8R_Ej-RfIvy",
        "outputId": "e142c564-b444-4878-a06a-2bc1a38e792d"
      },
      "outputs": [
        {
          "output_type": "execute_result",
          "data": {
            "text/plain": [
              "                         Age  YearsExperience  Years of Education  \\\n",
              "Age                 1.000000        -0.084464           -0.122462   \n",
              "YearsExperience    -0.084464         1.000000            0.055530   \n",
              "Years of Education -0.122462         0.055530            1.000000   \n",
              "QYearsExperience   -0.085166         0.997821            0.055903   \n",
              "CYearsExperience   -0.085782         0.991644            0.056311   \n",
              "CombinedParameter   0.035688         0.132295            0.981568   \n",
              "Salary             -0.064039         0.048526           -0.068327   \n",
              "\n",
              "                    QYearsExperience  CYearsExperience  CombinedParameter  \\\n",
              "Age                        -0.085166         -0.085782           0.035688   \n",
              "YearsExperience             0.997821          0.991644           0.132295   \n",
              "Years of Education          0.055903          0.056311           0.981568   \n",
              "QYearsExperience            1.000000          0.997987           0.132512   \n",
              "CYearsExperience            0.997987          1.000000           0.132399   \n",
              "CombinedParameter           0.132512          0.132399           1.000000   \n",
              "Salary                      0.050253          0.052132          -0.073134   \n",
              "\n",
              "                      Salary  \n",
              "Age                -0.064039  \n",
              "YearsExperience     0.048526  \n",
              "Years of Education -0.068327  \n",
              "QYearsExperience    0.050253  \n",
              "CYearsExperience    0.052132  \n",
              "CombinedParameter  -0.073134  \n",
              "Salary              1.000000  "
            ],
            "text/html": [
              "\n",
              "  <div id=\"df-d22838bf-6a2a-4402-960c-b995bd21939d\">\n",
              "    <div class=\"colab-df-container\">\n",
              "      <div>\n",
              "<style scoped>\n",
              "    .dataframe tbody tr th:only-of-type {\n",
              "        vertical-align: middle;\n",
              "    }\n",
              "\n",
              "    .dataframe tbody tr th {\n",
              "        vertical-align: top;\n",
              "    }\n",
              "\n",
              "    .dataframe thead th {\n",
              "        text-align: right;\n",
              "    }\n",
              "</style>\n",
              "<table border=\"1\" class=\"dataframe\">\n",
              "  <thead>\n",
              "    <tr style=\"text-align: right;\">\n",
              "      <th></th>\n",
              "      <th>Age</th>\n",
              "      <th>YearsExperience</th>\n",
              "      <th>Years of Education</th>\n",
              "      <th>QYearsExperience</th>\n",
              "      <th>CYearsExperience</th>\n",
              "      <th>CombinedParameter</th>\n",
              "      <th>Salary</th>\n",
              "    </tr>\n",
              "  </thead>\n",
              "  <tbody>\n",
              "    <tr>\n",
              "      <th>Age</th>\n",
              "      <td>1.000000</td>\n",
              "      <td>-0.084464</td>\n",
              "      <td>-0.122462</td>\n",
              "      <td>-0.085166</td>\n",
              "      <td>-0.085782</td>\n",
              "      <td>0.035688</td>\n",
              "      <td>-0.064039</td>\n",
              "    </tr>\n",
              "    <tr>\n",
              "      <th>YearsExperience</th>\n",
              "      <td>-0.084464</td>\n",
              "      <td>1.000000</td>\n",
              "      <td>0.055530</td>\n",
              "      <td>0.997821</td>\n",
              "      <td>0.991644</td>\n",
              "      <td>0.132295</td>\n",
              "      <td>0.048526</td>\n",
              "    </tr>\n",
              "    <tr>\n",
              "      <th>Years of Education</th>\n",
              "      <td>-0.122462</td>\n",
              "      <td>0.055530</td>\n",
              "      <td>1.000000</td>\n",
              "      <td>0.055903</td>\n",
              "      <td>0.056311</td>\n",
              "      <td>0.981568</td>\n",
              "      <td>-0.068327</td>\n",
              "    </tr>\n",
              "    <tr>\n",
              "      <th>QYearsExperience</th>\n",
              "      <td>-0.085166</td>\n",
              "      <td>0.997821</td>\n",
              "      <td>0.055903</td>\n",
              "      <td>1.000000</td>\n",
              "      <td>0.997987</td>\n",
              "      <td>0.132512</td>\n",
              "      <td>0.050253</td>\n",
              "    </tr>\n",
              "    <tr>\n",
              "      <th>CYearsExperience</th>\n",
              "      <td>-0.085782</td>\n",
              "      <td>0.991644</td>\n",
              "      <td>0.056311</td>\n",
              "      <td>0.997987</td>\n",
              "      <td>1.000000</td>\n",
              "      <td>0.132399</td>\n",
              "      <td>0.052132</td>\n",
              "    </tr>\n",
              "    <tr>\n",
              "      <th>CombinedParameter</th>\n",
              "      <td>0.035688</td>\n",
              "      <td>0.132295</td>\n",
              "      <td>0.981568</td>\n",
              "      <td>0.132512</td>\n",
              "      <td>0.132399</td>\n",
              "      <td>1.000000</td>\n",
              "      <td>-0.073134</td>\n",
              "    </tr>\n",
              "    <tr>\n",
              "      <th>Salary</th>\n",
              "      <td>-0.064039</td>\n",
              "      <td>0.048526</td>\n",
              "      <td>-0.068327</td>\n",
              "      <td>0.050253</td>\n",
              "      <td>0.052132</td>\n",
              "      <td>-0.073134</td>\n",
              "      <td>1.000000</td>\n",
              "    </tr>\n",
              "  </tbody>\n",
              "</table>\n",
              "</div>\n",
              "      <button class=\"colab-df-convert\" onclick=\"convertToInteractive('df-d22838bf-6a2a-4402-960c-b995bd21939d')\"\n",
              "              title=\"Convert this dataframe to an interactive table.\"\n",
              "              style=\"display:none;\">\n",
              "        \n",
              "  <svg xmlns=\"http://www.w3.org/2000/svg\" height=\"24px\"viewBox=\"0 0 24 24\"\n",
              "       width=\"24px\">\n",
              "    <path d=\"M0 0h24v24H0V0z\" fill=\"none\"/>\n",
              "    <path d=\"M18.56 5.44l.94 2.06.94-2.06 2.06-.94-2.06-.94-.94-2.06-.94 2.06-2.06.94zm-11 1L8.5 8.5l.94-2.06 2.06-.94-2.06-.94L8.5 2.5l-.94 2.06-2.06.94zm10 10l.94 2.06.94-2.06 2.06-.94-2.06-.94-.94-2.06-.94 2.06-2.06.94z\"/><path d=\"M17.41 7.96l-1.37-1.37c-.4-.4-.92-.59-1.43-.59-.52 0-1.04.2-1.43.59L10.3 9.45l-7.72 7.72c-.78.78-.78 2.05 0 2.83L4 21.41c.39.39.9.59 1.41.59.51 0 1.02-.2 1.41-.59l7.78-7.78 2.81-2.81c.8-.78.8-2.07 0-2.86zM5.41 20L4 18.59l7.72-7.72 1.47 1.35L5.41 20z\"/>\n",
              "  </svg>\n",
              "      </button>\n",
              "      \n",
              "  <style>\n",
              "    .colab-df-container {\n",
              "      display:flex;\n",
              "      flex-wrap:wrap;\n",
              "      gap: 12px;\n",
              "    }\n",
              "\n",
              "    .colab-df-convert {\n",
              "      background-color: #E8F0FE;\n",
              "      border: none;\n",
              "      border-radius: 50%;\n",
              "      cursor: pointer;\n",
              "      display: none;\n",
              "      fill: #1967D2;\n",
              "      height: 32px;\n",
              "      padding: 0 0 0 0;\n",
              "      width: 32px;\n",
              "    }\n",
              "\n",
              "    .colab-df-convert:hover {\n",
              "      background-color: #E2EBFA;\n",
              "      box-shadow: 0px 1px 2px rgba(60, 64, 67, 0.3), 0px 1px 3px 1px rgba(60, 64, 67, 0.15);\n",
              "      fill: #174EA6;\n",
              "    }\n",
              "\n",
              "    [theme=dark] .colab-df-convert {\n",
              "      background-color: #3B4455;\n",
              "      fill: #D2E3FC;\n",
              "    }\n",
              "\n",
              "    [theme=dark] .colab-df-convert:hover {\n",
              "      background-color: #434B5C;\n",
              "      box-shadow: 0px 1px 3px 1px rgba(0, 0, 0, 0.15);\n",
              "      filter: drop-shadow(0px 1px 2px rgba(0, 0, 0, 0.3));\n",
              "      fill: #FFFFFF;\n",
              "    }\n",
              "  </style>\n",
              "\n",
              "      <script>\n",
              "        const buttonEl =\n",
              "          document.querySelector('#df-d22838bf-6a2a-4402-960c-b995bd21939d button.colab-df-convert');\n",
              "        buttonEl.style.display =\n",
              "          google.colab.kernel.accessAllowed ? 'block' : 'none';\n",
              "\n",
              "        async function convertToInteractive(key) {\n",
              "          const element = document.querySelector('#df-d22838bf-6a2a-4402-960c-b995bd21939d');\n",
              "          const dataTable =\n",
              "            await google.colab.kernel.invokeFunction('convertToInteractive',\n",
              "                                                     [key], {});\n",
              "          if (!dataTable) return;\n",
              "\n",
              "          const docLinkHtml = 'Like what you see? Visit the ' +\n",
              "            '<a target=\"_blank\" href=https://colab.research.google.com/notebooks/data_table.ipynb>data table notebook</a>'\n",
              "            + ' to learn more about interactive tables.';\n",
              "          element.innerHTML = '';\n",
              "          dataTable['output_type'] = 'display_data';\n",
              "          await google.colab.output.renderOutput(dataTable, element);\n",
              "          const docLink = document.createElement('div');\n",
              "          docLink.innerHTML = docLinkHtml;\n",
              "          element.appendChild(docLink);\n",
              "        }\n",
              "      </script>\n",
              "    </div>\n",
              "  </div>\n",
              "  "
            ]
          },
          "metadata": {},
          "execution_count": 739
        }
      ],
      "source": [
        "# corr() is used to find the pairwise correlation of all columns in the data we provided.\n",
        "# The closer its value is to 1, the more variability the model explains.\n",
        "Testset.corr()"
      ]
    },
    {
      "cell_type": "markdown",
      "source": [
        "YEARS OF EXPERIENCE VS SALARY"
      ],
      "metadata": {
        "id": "Hq--G4rndG0K"
      }
    },
    {
      "cell_type": "code",
      "execution_count": 740,
      "metadata": {
        "colab": {
          "base_uri": "https://localhost:8080/",
          "height": 296
        },
        "id": "KQCr-HINfeTc",
        "outputId": "0f5d10d8-a098-4518-fafc-51960196be5f"
      },
      "outputs": [
        {
          "output_type": "execute_result",
          "data": {
            "text/plain": [
              "<matplotlib.axes._subplots.AxesSubplot at 0x7fb2403e1490>"
            ]
          },
          "metadata": {},
          "execution_count": 740
        },
        {
          "output_type": "display_data",
          "data": {
            "text/plain": [
              "<Figure size 432x288 with 1 Axes>"
            ],
            "image/png": "[encoded data removed]"
          },
          "metadata": {
            "needs_background": "light"
          }
        }
      ],
      "source": [
        "# We are using seaborn, which is used to display mathematical scatter plot of the given data\n",
        "sns.scatterplot(data=Testset, x=\"YearsExperience\",y=\"Salary\")"
      ]
    },
    {
      "cell_type": "code",
      "execution_count": 741,
      "metadata": {
        "id": "Be36uyGApCfr"
      },
      "outputs": [],
      "source": [
        "# Conducting Linear Regression method and inserting data using the fit method\n",
        "# Fit function adjusts weights according to data values so that better accuracy can be achieved\n",
        "#Dataset = pd.read_csv(\"T.csv\")\n",
        "lm = linear_model.LinearRegression(). fit(Training[[\"YearsExperience\"]],Training[[\"Salary\"]])\n",
        "# Using the predict method\n",
        "\n",
        "result=lm.predict(Testset[[\"YearsExperience\"]])"
      ]
    },
    {
      "cell_type": "code",
      "execution_count": 742,
      "metadata": {
        "colab": {
          "base_uri": "https://localhost:8080/",
          "height": 206
        },
        "id": "Nhahhys_pGQO",
        "outputId": "962c8701-2dbb-4507-9444-7f82bfb7b5c4"
      },
      "outputs": [
        {
          "output_type": "execute_result",
          "data": {
            "text/plain": [
              "         Age  YearsExperience  Years of Education  QYearsExperience  \\\n",
              "0  54.796262        14.552752                   9        211.782583   \n",
              "1  52.774087        14.169074                   7        200.762647   \n",
              "2  52.497483        14.486505                   5        209.858838   \n",
              "3  55.012830        15.776872                   6        248.909683   \n",
              "4  59.144511        16.275620                   6        264.895815   \n",
              "\n",
              "   CYearsExperience  CombinedParameter        Salary  \\\n",
              "0       3082.019357         624.141124  91019.026218   \n",
              "1       2844.620717         468.602126  65338.199471   \n",
              "2       3040.121191         334.919942  84974.970717   \n",
              "3       3927.016155         424.738210  79080.958366   \n",
              "4       4311.343690         452.520789  62774.559215   \n",
              "\n",
              "   Predicted Salary Using Sklearn method  \n",
              "0                           74717.486948  \n",
              "1                           74656.773019  \n",
              "2                           74707.004004  \n",
              "3                           74911.193936  \n",
              "4                           74990.116805  "
            ],
            "text/html": [
              "\n",
              "  <div id=\"df-e2776ff1-adaf-4e27-8339-7f3a86f22560\">\n",
              "    <div class=\"colab-df-container\">\n",
              "      <div>\n",
              "<style scoped>\n",
              "    .dataframe tbody tr th:only-of-type {\n",
              "        vertical-align: middle;\n",
              "    }\n",
              "\n",
              "    .dataframe tbody tr th {\n",
              "        vertical-align: top;\n",
              "    }\n",
              "\n",
              "    .dataframe thead th {\n",
              "        text-align: right;\n",
              "    }\n",
              "</style>\n",
              "<table border=\"1\" class=\"dataframe\">\n",
              "  <thead>\n",
              "    <tr style=\"text-align: right;\">\n",
              "      <th></th>\n",
              "      <th>Age</th>\n",
              "      <th>YearsExperience</th>\n",
              "      <th>Years of Education</th>\n",
              "      <th>QYearsExperience</th>\n",
              "      <th>CYearsExperience</th>\n",
              "      <th>CombinedParameter</th>\n",
              "      <th>Salary</th>\n",
              "      <th>Predicted Salary Using Sklearn method</th>\n",
              "    </tr>\n",
              "  </thead>\n",
              "  <tbody>\n",
              "    <tr>\n",
              "      <th>0</th>\n",
              "      <td>54.796262</td>\n",
              "      <td>14.552752</td>\n",
              "      <td>9</td>\n",
              "      <td>211.782583</td>\n",
              "      <td>3082.019357</td>\n",
              "      <td>624.141124</td>\n",
              "      <td>91019.026218</td>\n",
              "      <td>74717.486948</td>\n",
              "    </tr>\n",
              "    <tr>\n",
              "      <th>1</th>\n",
              "      <td>52.774087</td>\n",
              "      <td>14.169074</td>\n",
              "      <td>7</td>\n",
              "      <td>200.762647</td>\n",
              "      <td>2844.620717</td>\n",
              "      <td>468.602126</td>\n",
              "      <td>65338.199471</td>\n",
              "      <td>74656.773019</td>\n",
              "    </tr>\n",
              "    <tr>\n",
              "      <th>2</th>\n",
              "      <td>52.497483</td>\n",
              "      <td>14.486505</td>\n",
              "      <td>5</td>\n",
              "      <td>209.858838</td>\n",
              "      <td>3040.121191</td>\n",
              "      <td>334.919942</td>\n",
              "      <td>84974.970717</td>\n",
              "      <td>74707.004004</td>\n",
              "    </tr>\n",
              "    <tr>\n",
              "      <th>3</th>\n",
              "      <td>55.012830</td>\n",
              "      <td>15.776872</td>\n",
              "      <td>6</td>\n",
              "      <td>248.909683</td>\n",
              "      <td>3927.016155</td>\n",
              "      <td>424.738210</td>\n",
              "      <td>79080.958366</td>\n",
              "      <td>74911.193936</td>\n",
              "    </tr>\n",
              "    <tr>\n",
              "      <th>4</th>\n",
              "      <td>59.144511</td>\n",
              "      <td>16.275620</td>\n",
              "      <td>6</td>\n",
              "      <td>264.895815</td>\n",
              "      <td>4311.343690</td>\n",
              "      <td>452.520789</td>\n",
              "      <td>62774.559215</td>\n",
              "      <td>74990.116805</td>\n",
              "    </tr>\n",
              "  </tbody>\n",
              "</table>\n",
              "</div>\n",
              "      <button class=\"colab-df-convert\" onclick=\"convertToInteractive('df-e2776ff1-adaf-4e27-8339-7f3a86f22560')\"\n",
              "              title=\"Convert this dataframe to an interactive table.\"\n",
              "              style=\"display:none;\">\n",
              "        \n",
              "  <svg xmlns=\"http://www.w3.org/2000/svg\" height=\"24px\"viewBox=\"0 0 24 24\"\n",
              "       width=\"24px\">\n",
              "    <path d=\"M0 0h24v24H0V0z\" fill=\"none\"/>\n",
              "    <path d=\"M18.56 5.44l.94 2.06.94-2.06 2.06-.94-2.06-.94-.94-2.06-.94 2.06-2.06.94zm-11 1L8.5 8.5l.94-2.06 2.06-.94-2.06-.94L8.5 2.5l-.94 2.06-2.06.94zm10 10l.94 2.06.94-2.06 2.06-.94-2.06-.94-.94-2.06-.94 2.06-2.06.94z\"/><path d=\"M17.41 7.96l-1.37-1.37c-.4-.4-.92-.59-1.43-.59-.52 0-1.04.2-1.43.59L10.3 9.45l-7.72 7.72c-.78.78-.78 2.05 0 2.83L4 21.41c.39.39.9.59 1.41.59.51 0 1.02-.2 1.41-.59l7.78-7.78 2.81-2.81c.8-.78.8-2.07 0-2.86zM5.41 20L4 18.59l7.72-7.72 1.47 1.35L5.41 20z\"/>\n",
              "  </svg>\n",
              "      </button>\n",
              "      \n",
              "  <style>\n",
              "    .colab-df-container {\n",
              "      display:flex;\n",
              "      flex-wrap:wrap;\n",
              "      gap: 12px;\n",
              "    }\n",
              "\n",
              "    .colab-df-convert {\n",
              "      background-color: #E8F0FE;\n",
              "      border: none;\n",
              "      border-radius: 50%;\n",
              "      cursor: pointer;\n",
              "      display: none;\n",
              "      fill: #1967D2;\n",
              "      height: 32px;\n",
              "      padding: 0 0 0 0;\n",
              "      width: 32px;\n",
              "    }\n",
              "\n",
              "    .colab-df-convert:hover {\n",
              "      background-color: #E2EBFA;\n",
              "      box-shadow: 0px 1px 2px rgba(60, 64, 67, 0.3), 0px 1px 3px 1px rgba(60, 64, 67, 0.15);\n",
              "      fill: #174EA6;\n",
              "    }\n",
              "\n",
              "    [theme=dark] .colab-df-convert {\n",
              "      background-color: #3B4455;\n",
              "      fill: #D2E3FC;\n",
              "    }\n",
              "\n",
              "    [theme=dark] .colab-df-convert:hover {\n",
              "      background-color: #434B5C;\n",
              "      box-shadow: 0px 1px 3px 1px rgba(0, 0, 0, 0.15);\n",
              "      filter: drop-shadow(0px 1px 2px rgba(0, 0, 0, 0.3));\n",
              "      fill: #FFFFFF;\n",
              "    }\n",
              "  </style>\n",
              "\n",
              "      <script>\n",
              "        const buttonEl =\n",
              "          document.querySelector('#df-e2776ff1-adaf-4e27-8339-7f3a86f22560 button.colab-df-convert');\n",
              "        buttonEl.style.display =\n",
              "          google.colab.kernel.accessAllowed ? 'block' : 'none';\n",
              "\n",
              "        async function convertToInteractive(key) {\n",
              "          const element = document.querySelector('#df-e2776ff1-adaf-4e27-8339-7f3a86f22560');\n",
              "          const dataTable =\n",
              "            await google.colab.kernel.invokeFunction('convertToInteractive',\n",
              "                                                     [key], {});\n",
              "          if (!dataTable) return;\n",
              "\n",
              "          const docLinkHtml = 'Like what you see? Visit the ' +\n",
              "            '<a target=\"_blank\" href=https://colab.research.google.com/notebooks/data_table.ipynb>data table notebook</a>'\n",
              "            + ' to learn more about interactive tables.';\n",
              "          element.innerHTML = '';\n",
              "          dataTable['output_type'] = 'display_data';\n",
              "          await google.colab.output.renderOutput(dataTable, element);\n",
              "          const docLink = document.createElement('div');\n",
              "          docLink.innerHTML = docLinkHtml;\n",
              "          element.appendChild(docLink);\n",
              "        }\n",
              "      </script>\n",
              "    </div>\n",
              "  </div>\n",
              "  "
            ]
          },
          "metadata": {},
          "execution_count": 742
        }
      ],
      "source": [
        "# Creating a new column to place contents of the result variable\n",
        "Testset[\"Predicted Salary Using Sklearn method\"]= result\n",
        "Testset.head()"
      ]
    },
    {
      "cell_type": "code",
      "execution_count": 743,
      "metadata": {
        "colab": {
          "base_uri": "https://localhost:8080/",
          "height": 267
        },
        "id": "nzaL0hxVpLKw",
        "outputId": "f9a4f4a2-0613-47cc-bc87-637cbd3a5843"
      },
      "outputs": [
        {
          "output_type": "execute_result",
          "data": {
            "text/plain": [
              "         Age  YearsExperience  Years of Education  QYearsExperience  \\\n",
              "0  54.796262        14.552752                   9        211.782583   \n",
              "1  52.774087        14.169074                   7        200.762647   \n",
              "2  52.497483        14.486505                   5        209.858838   \n",
              "3  55.012830        15.776872                   6        248.909683   \n",
              "4  59.144511        16.275620                   6        264.895815   \n",
              "\n",
              "   CYearsExperience  CombinedParameter        Salary  \\\n",
              "0       3082.019357         624.141124  91019.026218   \n",
              "1       2844.620717         468.602126  65338.199471   \n",
              "2       3040.121191         334.919942  84974.970717   \n",
              "3       3927.016155         424.738210  79080.958366   \n",
              "4       4311.343690         452.520789  62774.559215   \n",
              "\n",
              "   Predicted Salary Using Sklearn method  \\\n",
              "0                           74717.486948   \n",
              "1                           74656.773019   \n",
              "2                           74707.004004   \n",
              "3                           74911.193936   \n",
              "4                           74990.116805   \n",
              "\n",
              "   Prediction Error Using Sklearn method  \n",
              "0                           16301.539270  \n",
              "1                           -9318.573548  \n",
              "2                           10267.966713  \n",
              "3                            4169.764429  \n",
              "4                          -12215.557590  "
            ],
            "text/html": [
              "\n",
              "  <div id=\"df-c336dfb0-cd1e-47ed-a660-563c6d48f887\">\n",
              "    <div class=\"colab-df-container\">\n",
              "      <div>\n",
              "<style scoped>\n",
              "    .dataframe tbody tr th:only-of-type {\n",
              "        vertical-align: middle;\n",
              "    }\n",
              "\n",
              "    .dataframe tbody tr th {\n",
              "        vertical-align: top;\n",
              "    }\n",
              "\n",
              "    .dataframe thead th {\n",
              "        text-align: right;\n",
              "    }\n",
              "</style>\n",
              "<table border=\"1\" class=\"dataframe\">\n",
              "  <thead>\n",
              "    <tr style=\"text-align: right;\">\n",
              "      <th></th>\n",
              "      <th>Age</th>\n",
              "      <th>YearsExperience</th>\n",
              "      <th>Years of Education</th>\n",
              "      <th>QYearsExperience</th>\n",
              "      <th>CYearsExperience</th>\n",
              "      <th>CombinedParameter</th>\n",
              "      <th>Salary</th>\n",
              "      <th>Predicted Salary Using Sklearn method</th>\n",
              "      <th>Prediction Error Using Sklearn method</th>\n",
              "    </tr>\n",
              "  </thead>\n",
              "  <tbody>\n",
              "    <tr>\n",
              "      <th>0</th>\n",
              "      <td>54.796262</td>\n",
              "      <td>14.552752</td>\n",
              "      <td>9</td>\n",
              "      <td>211.782583</td>\n",
              "      <td>3082.019357</td>\n",
              "      <td>624.141124</td>\n",
              "      <td>91019.026218</td>\n",
              "      <td>74717.486948</td>\n",
              "      <td>16301.539270</td>\n",
              "    </tr>\n",
              "    <tr>\n",
              "      <th>1</th>\n",
              "      <td>52.774087</td>\n",
              "      <td>14.169074</td>\n",
              "      <td>7</td>\n",
              "      <td>200.762647</td>\n",
              "      <td>2844.620717</td>\n",
              "      <td>468.602126</td>\n",
              "      <td>65338.199471</td>\n",
              "      <td>74656.773019</td>\n",
              "      <td>-9318.573548</td>\n",
              "    </tr>\n",
              "    <tr>\n",
              "      <th>2</th>\n",
              "      <td>52.497483</td>\n",
              "      <td>14.486505</td>\n",
              "      <td>5</td>\n",
              "      <td>209.858838</td>\n",
              "      <td>3040.121191</td>\n",
              "      <td>334.919942</td>\n",
              "      <td>84974.970717</td>\n",
              "      <td>74707.004004</td>\n",
              "      <td>10267.966713</td>\n",
              "    </tr>\n",
              "    <tr>\n",
              "      <th>3</th>\n",
              "      <td>55.012830</td>\n",
              "      <td>15.776872</td>\n",
              "      <td>6</td>\n",
              "      <td>248.909683</td>\n",
              "      <td>3927.016155</td>\n",
              "      <td>424.738210</td>\n",
              "      <td>79080.958366</td>\n",
              "      <td>74911.193936</td>\n",
              "      <td>4169.764429</td>\n",
              "    </tr>\n",
              "    <tr>\n",
              "      <th>4</th>\n",
              "      <td>59.144511</td>\n",
              "      <td>16.275620</td>\n",
              "      <td>6</td>\n",
              "      <td>264.895815</td>\n",
              "      <td>4311.343690</td>\n",
              "      <td>452.520789</td>\n",
              "      <td>62774.559215</td>\n",
              "      <td>74990.116805</td>\n",
              "      <td>-12215.557590</td>\n",
              "    </tr>\n",
              "  </tbody>\n",
              "</table>\n",
              "</div>\n",
              "      <button class=\"colab-df-convert\" onclick=\"convertToInteractive('df-c336dfb0-cd1e-47ed-a660-563c6d48f887')\"\n",
              "              title=\"Convert this dataframe to an interactive table.\"\n",
              "              style=\"display:none;\">\n",
              "        \n",
              "  <svg xmlns=\"http://www.w3.org/2000/svg\" height=\"24px\"viewBox=\"0 0 24 24\"\n",
              "       width=\"24px\">\n",
              "    <path d=\"M0 0h24v24H0V0z\" fill=\"none\"/>\n",
              "    <path d=\"M18.56 5.44l.94 2.06.94-2.06 2.06-.94-2.06-.94-.94-2.06-.94 2.06-2.06.94zm-11 1L8.5 8.5l.94-2.06 2.06-.94-2.06-.94L8.5 2.5l-.94 2.06-2.06.94zm10 10l.94 2.06.94-2.06 2.06-.94-2.06-.94-.94-2.06-.94 2.06-2.06.94z\"/><path d=\"M17.41 7.96l-1.37-1.37c-.4-.4-.92-.59-1.43-.59-.52 0-1.04.2-1.43.59L10.3 9.45l-7.72 7.72c-.78.78-.78 2.05 0 2.83L4 21.41c.39.39.9.59 1.41.59.51 0 1.02-.2 1.41-.59l7.78-7.78 2.81-2.81c.8-.78.8-2.07 0-2.86zM5.41 20L4 18.59l7.72-7.72 1.47 1.35L5.41 20z\"/>\n",
              "  </svg>\n",
              "      </button>\n",
              "      \n",
              "  <style>\n",
              "    .colab-df-container {\n",
              "      display:flex;\n",
              "      flex-wrap:wrap;\n",
              "      gap: 12px;\n",
              "    }\n",
              "\n",
              "    .colab-df-convert {\n",
              "      background-color: #E8F0FE;\n",
              "      border: none;\n",
              "      border-radius: 50%;\n",
              "      cursor: pointer;\n",
              "      display: none;\n",
              "      fill: #1967D2;\n",
              "      height: 32px;\n",
              "      padding: 0 0 0 0;\n",
              "      width: 32px;\n",
              "    }\n",
              "\n",
              "    .colab-df-convert:hover {\n",
              "      background-color: #E2EBFA;\n",
              "      box-shadow: 0px 1px 2px rgba(60, 64, 67, 0.3), 0px 1px 3px 1px rgba(60, 64, 67, 0.15);\n",
              "      fill: #174EA6;\n",
              "    }\n",
              "\n",
              "    [theme=dark] .colab-df-convert {\n",
              "      background-color: #3B4455;\n",
              "      fill: #D2E3FC;\n",
              "    }\n",
              "\n",
              "    [theme=dark] .colab-df-convert:hover {\n",
              "      background-color: #434B5C;\n",
              "      box-shadow: 0px 1px 3px 1px rgba(0, 0, 0, 0.15);\n",
              "      filter: drop-shadow(0px 1px 2px rgba(0, 0, 0, 0.3));\n",
              "      fill: #FFFFFF;\n",
              "    }\n",
              "  </style>\n",
              "\n",
              "      <script>\n",
              "        const buttonEl =\n",
              "          document.querySelector('#df-c336dfb0-cd1e-47ed-a660-563c6d48f887 button.colab-df-convert');\n",
              "        buttonEl.style.display =\n",
              "          google.colab.kernel.accessAllowed ? 'block' : 'none';\n",
              "\n",
              "        async function convertToInteractive(key) {\n",
              "          const element = document.querySelector('#df-c336dfb0-cd1e-47ed-a660-563c6d48f887');\n",
              "          const dataTable =\n",
              "            await google.colab.kernel.invokeFunction('convertToInteractive',\n",
              "                                                     [key], {});\n",
              "          if (!dataTable) return;\n",
              "\n",
              "          const docLinkHtml = 'Like what you see? Visit the ' +\n",
              "            '<a target=\"_blank\" href=https://colab.research.google.com/notebooks/data_table.ipynb>data table notebook</a>'\n",
              "            + ' to learn more about interactive tables.';\n",
              "          element.innerHTML = '';\n",
              "          dataTable['output_type'] = 'display_data';\n",
              "          await google.colab.output.renderOutput(dataTable, element);\n",
              "          const docLink = document.createElement('div');\n",
              "          docLink.innerHTML = docLinkHtml;\n",
              "          element.appendChild(docLink);\n",
              "        }\n",
              "      </script>\n",
              "    </div>\n",
              "  </div>\n",
              "  "
            ]
          },
          "metadata": {},
          "execution_count": 743
        }
      ],
      "source": [
        "# Created a new column to show the error current salary minus predicted salary\n",
        "Testset[\"Prediction Error Using Sklearn method\"] = Testset[\"Salary\"]-Testset[\"Predicted Salary Using Sklearn method\"]\n",
        "Testset.head()"
      ]
    },
    {
      "cell_type": "code",
      "execution_count": 744,
      "metadata": {
        "colab": {
          "base_uri": "https://localhost:8080/",
          "height": 312
        },
        "id": "siJbWEBdpQo6",
        "outputId": "27ea140d-04a8-4a9d-d6c0-8376fabb045c"
      },
      "outputs": [
        {
          "output_type": "execute_result",
          "data": {
            "text/plain": [
              "Text(0.5, 1.0, 'Linear Regression: Years of Experience vS Corresponding Salary ')"
            ]
          },
          "metadata": {},
          "execution_count": 744
        },
        {
          "output_type": "display_data",
          "data": {
            "text/plain": [
              "<Figure size 432x288 with 1 Axes>"
            ],
            "image/png": "[encoded data removed]"
          },
          "metadata": {
            "needs_background": "light"
          }
        }
      ],
      "source": [
        "# Plotting Linear Regression graph with Sklearn  \n",
        "plt.scatter(Testset[\"YearsExperience\"], Testset[\"Salary\"])\n",
        "plt.plot(Testset[\"YearsExperience\"],Testset[\"Predicted Salary Using Sklearn method\"], color=\"green\")\n",
        "plt.ylabel(\"Salary\")\n",
        "plt.xlabel(\"Years of Experience\")\n",
        "plt.title(\"Linear Regression: Years of Experience vS Corresponding Salary \")"
      ]
    },
    {
      "cell_type": "code",
      "execution_count": 745,
      "metadata": {
        "id": "NgzST9RBqK5N"
      },
      "outputs": [],
      "source": [
        "m=lm.coef_"
      ]
    },
    {
      "cell_type": "code",
      "execution_count": 746,
      "metadata": {
        "id": "fq3xx4mEqRaj"
      },
      "outputs": [],
      "source": [
        "b=lm.intercept_"
      ]
    },
    {
      "cell_type": "code",
      "execution_count": 747,
      "metadata": {
        "colab": {
          "base_uri": "https://localhost:8080/"
        },
        "id": "ksNgIQWNqa-Z",
        "outputId": "07537b73-bc44-477b-bb7e-2b34c33f1c9d"
      },
      "outputs": [
        {
          "output_type": "execute_result",
          "data": {
            "text/plain": [
              "array([[74202.76557947]])"
            ]
          },
          "metadata": {},
          "execution_count": 747
        }
      ],
      "source": [
        "#Testing for 7 years of experience\n",
        "Salary = b + m *11.3\n",
        "Salary"
      ]
    },
    {
      "cell_type": "code",
      "execution_count": 748,
      "metadata": {
        "colab": {
          "base_uri": "https://localhost:8080/"
        },
        "id": "YHslG1s_qpaf",
        "outputId": "581c6ea6-f4fc-4587-92cf-3fc17737938c"
      },
      "outputs": [
        {
          "output_type": "stream",
          "name": "stderr",
          "text": [
            "/usr/local/lib/python3.7/dist-packages/sklearn/base.py:451: UserWarning: X does not have valid feature names, but LinearRegression was fitted with feature names\n",
            "  \"X does not have valid feature names, but\"\n"
          ]
        },
        {
          "output_type": "execute_result",
          "data": {
            "text/plain": [
              "array([[74202.76557947]])"
            ]
          },
          "metadata": {},
          "execution_count": 748
        }
      ],
      "source": [
        "lm.predict([[11.3]]) "
      ]
    },
    {
      "cell_type": "code",
      "source": [
        "assert Salary == lm.predict([[11.3]])"
      ],
      "metadata": {
        "colab": {
          "base_uri": "https://localhost:8080/"
        },
        "id": "8BXMUSivOLHB",
        "outputId": "bace45ba-1bcc-4b18-f0aa-db1507ff6c81"
      },
      "execution_count": 749,
      "outputs": [
        {
          "output_type": "stream",
          "name": "stderr",
          "text": [
            "/usr/local/lib/python3.7/dist-packages/sklearn/base.py:451: UserWarning: X does not have valid feature names, but LinearRegression was fitted with feature names\n",
            "  \"X does not have valid feature names, but\"\n"
          ]
        }
      ]
    },
    {
      "cell_type": "markdown",
      "metadata": {
        "id": "iGNEIWBjqFyu"
      },
      "source": [
        "AGE VS SALARY CONDITION"
      ]
    },
    {
      "cell_type": "code",
      "execution_count": 750,
      "metadata": {
        "colab": {
          "base_uri": "https://localhost:8080/",
          "height": 296
        },
        "id": "Pg2_Kzd2PddU",
        "outputId": "a0a431e2-6e99-4a25-ede4-9e3f36168ae8"
      },
      "outputs": [
        {
          "output_type": "execute_result",
          "data": {
            "text/plain": [
              "<matplotlib.axes._subplots.AxesSubplot at 0x7fb2402f2d10>"
            ]
          },
          "metadata": {},
          "execution_count": 750
        },
        {
          "output_type": "display_data",
          "data": {
            "text/plain": [
              "<Figure size 432x288 with 1 Axes>"
            ],
            "image/png": "[encoded data removed]"
          },
          "metadata": {
            "needs_background": "light"
          }
        }
      ],
      "source": [
        "sns.scatterplot(data=Testset, x=\"Age\",y=\"Salary\")"
      ]
    },
    {
      "cell_type": "code",
      "execution_count": 751,
      "metadata": {
        "id": "weVfbohlpVCy"
      },
      "outputs": [],
      "source": [
        "# Conducting Linear Regression method and inserting data using the fit method\n",
        "# Fit function adjusts weights according to data values so that better accuracy can be achieved\n",
        "\n",
        "lm = linear_model.LinearRegression(). fit(Training[[\"Age\"]],Training[[\"Salary\"]])\n",
        "# Using the predict method\n",
        "result=lm.predict (Testset[[\"Age\"]])"
      ]
    },
    {
      "cell_type": "code",
      "execution_count": 752,
      "metadata": {
        "colab": {
          "base_uri": "https://localhost:8080/",
          "height": 267
        },
        "id": "m9mZK7VQpb6c",
        "outputId": "3859e0dc-3383-4dbb-d785-e0babdfbe13a"
      },
      "outputs": [
        {
          "output_type": "execute_result",
          "data": {
            "text/plain": [
              "         Age  YearsExperience  Years of Education  QYearsExperience  \\\n",
              "0  54.796262        14.552752                   9        211.782583   \n",
              "1  52.774087        14.169074                   7        200.762647   \n",
              "2  52.497483        14.486505                   5        209.858838   \n",
              "3  55.012830        15.776872                   6        248.909683   \n",
              "4  59.144511        16.275620                   6        264.895815   \n",
              "\n",
              "   CYearsExperience  CombinedParameter        Salary  \\\n",
              "0       3082.019357         624.141124  91019.026218   \n",
              "1       2844.620717         468.602126  65338.199471   \n",
              "2       3040.121191         334.919942  84974.970717   \n",
              "3       3927.016155         424.738210  79080.958366   \n",
              "4       4311.343690         452.520789  62774.559215   \n",
              "\n",
              "   Predicted Salary Using Sklearn method  \\\n",
              "0                           74611.507376   \n",
              "1                           74351.474510   \n",
              "2                           74315.905770   \n",
              "3                           74639.355987   \n",
              "4                           75170.651782   \n",
              "\n",
              "   Prediction Error Using Sklearn method  \n",
              "0                           16407.518842  \n",
              "1                           -9013.275039  \n",
              "2                           10659.064947  \n",
              "3                            4441.602379  \n",
              "4                          -12396.092566  "
            ],
            "text/html": [
              "\n",
              "  <div id=\"df-f995f013-3abd-4e99-a321-dd506e855b48\">\n",
              "    <div class=\"colab-df-container\">\n",
              "      <div>\n",
              "<style scoped>\n",
              "    .dataframe tbody tr th:only-of-type {\n",
              "        vertical-align: middle;\n",
              "    }\n",
              "\n",
              "    .dataframe tbody tr th {\n",
              "        vertical-align: top;\n",
              "    }\n",
              "\n",
              "    .dataframe thead th {\n",
              "        text-align: right;\n",
              "    }\n",
              "</style>\n",
              "<table border=\"1\" class=\"dataframe\">\n",
              "  <thead>\n",
              "    <tr style=\"text-align: right;\">\n",
              "      <th></th>\n",
              "      <th>Age</th>\n",
              "      <th>YearsExperience</th>\n",
              "      <th>Years of Education</th>\n",
              "      <th>QYearsExperience</th>\n",
              "      <th>CYearsExperience</th>\n",
              "      <th>CombinedParameter</th>\n",
              "      <th>Salary</th>\n",
              "      <th>Predicted Salary Using Sklearn method</th>\n",
              "      <th>Prediction Error Using Sklearn method</th>\n",
              "    </tr>\n",
              "  </thead>\n",
              "  <tbody>\n",
              "    <tr>\n",
              "      <th>0</th>\n",
              "      <td>54.796262</td>\n",
              "      <td>14.552752</td>\n",
              "      <td>9</td>\n",
              "      <td>211.782583</td>\n",
              "      <td>3082.019357</td>\n",
              "      <td>624.141124</td>\n",
              "      <td>91019.026218</td>\n",
              "      <td>74611.507376</td>\n",
              "      <td>16407.518842</td>\n",
              "    </tr>\n",
              "    <tr>\n",
              "      <th>1</th>\n",
              "      <td>52.774087</td>\n",
              "      <td>14.169074</td>\n",
              "      <td>7</td>\n",
              "      <td>200.762647</td>\n",
              "      <td>2844.620717</td>\n",
              "      <td>468.602126</td>\n",
              "      <td>65338.199471</td>\n",
              "      <td>74351.474510</td>\n",
              "      <td>-9013.275039</td>\n",
              "    </tr>\n",
              "    <tr>\n",
              "      <th>2</th>\n",
              "      <td>52.497483</td>\n",
              "      <td>14.486505</td>\n",
              "      <td>5</td>\n",
              "      <td>209.858838</td>\n",
              "      <td>3040.121191</td>\n",
              "      <td>334.919942</td>\n",
              "      <td>84974.970717</td>\n",
              "      <td>74315.905770</td>\n",
              "      <td>10659.064947</td>\n",
              "    </tr>\n",
              "    <tr>\n",
              "      <th>3</th>\n",
              "      <td>55.012830</td>\n",
              "      <td>15.776872</td>\n",
              "      <td>6</td>\n",
              "      <td>248.909683</td>\n",
              "      <td>3927.016155</td>\n",
              "      <td>424.738210</td>\n",
              "      <td>79080.958366</td>\n",
              "      <td>74639.355987</td>\n",
              "      <td>4441.602379</td>\n",
              "    </tr>\n",
              "    <tr>\n",
              "      <th>4</th>\n",
              "      <td>59.144511</td>\n",
              "      <td>16.275620</td>\n",
              "      <td>6</td>\n",
              "      <td>264.895815</td>\n",
              "      <td>4311.343690</td>\n",
              "      <td>452.520789</td>\n",
              "      <td>62774.559215</td>\n",
              "      <td>75170.651782</td>\n",
              "      <td>-12396.092566</td>\n",
              "    </tr>\n",
              "  </tbody>\n",
              "</table>\n",
              "</div>\n",
              "      <button class=\"colab-df-convert\" onclick=\"convertToInteractive('df-f995f013-3abd-4e99-a321-dd506e855b48')\"\n",
              "              title=\"Convert this dataframe to an interactive table.\"\n",
              "              style=\"display:none;\">\n",
              "        \n",
              "  <svg xmlns=\"http://www.w3.org/2000/svg\" height=\"24px\"viewBox=\"0 0 24 24\"\n",
              "       width=\"24px\">\n",
              "    <path d=\"M0 0h24v24H0V0z\" fill=\"none\"/>\n",
              "    <path d=\"M18.56 5.44l.94 2.06.94-2.06 2.06-.94-2.06-.94-.94-2.06-.94 2.06-2.06.94zm-11 1L8.5 8.5l.94-2.06 2.06-.94-2.06-.94L8.5 2.5l-.94 2.06-2.06.94zm10 10l.94 2.06.94-2.06 2.06-.94-2.06-.94-.94-2.06-.94 2.06-2.06.94z\"/><path d=\"M17.41 7.96l-1.37-1.37c-.4-.4-.92-.59-1.43-.59-.52 0-1.04.2-1.43.59L10.3 9.45l-7.72 7.72c-.78.78-.78 2.05 0 2.83L4 21.41c.39.39.9.59 1.41.59.51 0 1.02-.2 1.41-.59l7.78-7.78 2.81-2.81c.8-.78.8-2.07 0-2.86zM5.41 20L4 18.59l7.72-7.72 1.47 1.35L5.41 20z\"/>\n",
              "  </svg>\n",
              "      </button>\n",
              "      \n",
              "  <style>\n",
              "    .colab-df-container {\n",
              "      display:flex;\n",
              "      flex-wrap:wrap;\n",
              "      gap: 12px;\n",
              "    }\n",
              "\n",
              "    .colab-df-convert {\n",
              "      background-color: #E8F0FE;\n",
              "      border: none;\n",
              "      border-radius: 50%;\n",
              "      cursor: pointer;\n",
              "      display: none;\n",
              "      fill: #1967D2;\n",
              "      height: 32px;\n",
              "      padding: 0 0 0 0;\n",
              "      width: 32px;\n",
              "    }\n",
              "\n",
              "    .colab-df-convert:hover {\n",
              "      background-color: #E2EBFA;\n",
              "      box-shadow: 0px 1px 2px rgba(60, 64, 67, 0.3), 0px 1px 3px 1px rgba(60, 64, 67, 0.15);\n",
              "      fill: #174EA6;\n",
              "    }\n",
              "\n",
              "    [theme=dark] .colab-df-convert {\n",
              "      background-color: #3B4455;\n",
              "      fill: #D2E3FC;\n",
              "    }\n",
              "\n",
              "    [theme=dark] .colab-df-convert:hover {\n",
              "      background-color: #434B5C;\n",
              "      box-shadow: 0px 1px 3px 1px rgba(0, 0, 0, 0.15);\n",
              "      filter: drop-shadow(0px 1px 2px rgba(0, 0, 0, 0.3));\n",
              "      fill: #FFFFFF;\n",
              "    }\n",
              "  </style>\n",
              "\n",
              "      <script>\n",
              "        const buttonEl =\n",
              "          document.querySelector('#df-f995f013-3abd-4e99-a321-dd506e855b48 button.colab-df-convert');\n",
              "        buttonEl.style.display =\n",
              "          google.colab.kernel.accessAllowed ? 'block' : 'none';\n",
              "\n",
              "        async function convertToInteractive(key) {\n",
              "          const element = document.querySelector('#df-f995f013-3abd-4e99-a321-dd506e855b48');\n",
              "          const dataTable =\n",
              "            await google.colab.kernel.invokeFunction('convertToInteractive',\n",
              "                                                     [key], {});\n",
              "          if (!dataTable) return;\n",
              "\n",
              "          const docLinkHtml = 'Like what you see? Visit the ' +\n",
              "            '<a target=\"_blank\" href=https://colab.research.google.com/notebooks/data_table.ipynb>data table notebook</a>'\n",
              "            + ' to learn more about interactive tables.';\n",
              "          element.innerHTML = '';\n",
              "          dataTable['output_type'] = 'display_data';\n",
              "          await google.colab.output.renderOutput(dataTable, element);\n",
              "          const docLink = document.createElement('div');\n",
              "          docLink.innerHTML = docLinkHtml;\n",
              "          element.appendChild(docLink);\n",
              "        }\n",
              "      </script>\n",
              "    </div>\n",
              "  </div>\n",
              "  "
            ]
          },
          "metadata": {},
          "execution_count": 752
        }
      ],
      "source": [
        "# Creating a new column to place contents of the result variable\n",
        "Testset[\"Predicted Salary Using Sklearn method\"] = result\n",
        "Testset[\"Prediction Error Using Sklearn method\"] = Testset[\"Salary\"]-Testset[\"Predicted Salary Using Sklearn method\"]\n",
        "Testset.head()"
      ]
    },
    {
      "cell_type": "code",
      "execution_count": 753,
      "metadata": {
        "colab": {
          "base_uri": "https://localhost:8080/",
          "height": 312
        },
        "id": "EqCxXV1Hpz92",
        "outputId": "2047bae1-9e1c-4494-ce2b-20fc0dda3f95"
      },
      "outputs": [
        {
          "output_type": "execute_result",
          "data": {
            "text/plain": [
              "Text(0.5, 1.0, 'Linear Regression: Age vS Corresponding Salary ')"
            ]
          },
          "metadata": {},
          "execution_count": 753
        },
        {
          "output_type": "display_data",
          "data": {
            "text/plain": [
              "<Figure size 432x288 with 1 Axes>"
            ],
            "image/png": "[encoded data removed]"
          },
          "metadata": {
            "needs_background": "light"
          }
        }
      ],
      "source": [
        "plt.scatter(Testset[\"Age\"], Testset[\"Salary\"])\n",
        "plt.plot(Testset[\"Age\"],Testset[\"Predicted Salary Using Sklearn method\"], color=\"orange\")\n",
        "plt.ylabel(\"Salary\")\n",
        "plt.xlabel(\"Age\")\n",
        "plt.title(\"Linear Regression: Age vS Corresponding Salary \")"
      ]
    },
    {
      "cell_type": "code",
      "execution_count": 754,
      "metadata": {
        "id": "xyIVoYreq3dH"
      },
      "outputs": [],
      "source": [
        "m=lm.coef_"
      ]
    },
    {
      "cell_type": "code",
      "execution_count": 755,
      "metadata": {
        "id": "2vKSTEQEq6UU"
      },
      "outputs": [],
      "source": [
        "b=lm.intercept_"
      ]
    },
    {
      "cell_type": "code",
      "execution_count": 756,
      "metadata": {
        "colab": {
          "base_uri": "https://localhost:8080/"
        },
        "id": "Mfik9PuDrAiM",
        "outputId": "305871d0-19c2-4b3f-d0f5-2d78b024eb03"
      },
      "outputs": [
        {
          "output_type": "execute_result",
          "data": {
            "text/plain": [
              "array([[68465.35272122]])"
            ]
          },
          "metadata": {},
          "execution_count": 756
        }
      ],
      "source": [
        "#Testing for 7 years of experience\n",
        "Salary = b + m * 7\n",
        "Salary"
      ]
    },
    {
      "cell_type": "code",
      "execution_count": 757,
      "metadata": {
        "colab": {
          "base_uri": "https://localhost:8080/"
        },
        "id": "cOZBSt_irH-y",
        "outputId": "8dbc5e01-14d9-4bde-800b-36a949a2653f"
      },
      "outputs": [
        {
          "output_type": "stream",
          "name": "stderr",
          "text": [
            "/usr/local/lib/python3.7/dist-packages/sklearn/base.py:451: UserWarning: X does not have valid feature names, but LinearRegression was fitted with feature names\n",
            "  \"X does not have valid feature names, but\"\n"
          ]
        },
        {
          "output_type": "execute_result",
          "data": {
            "text/plain": [
              "array([[68465.35272122]])"
            ]
          },
          "metadata": {},
          "execution_count": 757
        }
      ],
      "source": [
        "lm.predict([[7]])"
      ]
    },
    {
      "cell_type": "code",
      "source": [
        "assert Salary == lm.predict([[7]])"
      ],
      "metadata": {
        "colab": {
          "base_uri": "https://localhost:8080/"
        },
        "id": "dhU5WROKOnvS",
        "outputId": "ba67944b-7c1c-4823-ce79-d7b1a8f8e63a"
      },
      "execution_count": 758,
      "outputs": [
        {
          "output_type": "stream",
          "name": "stderr",
          "text": [
            "/usr/local/lib/python3.7/dist-packages/sklearn/base.py:451: UserWarning: X does not have valid feature names, but LinearRegression was fitted with feature names\n",
            "  \"X does not have valid feature names, but\"\n"
          ]
        }
      ]
    },
    {
      "cell_type": "markdown",
      "source": [
        "YEARS OF EDUCATION VS SALARY"
      ],
      "metadata": {
        "id": "97IQhS-s5fFi"
      }
    },
    {
      "cell_type": "code",
      "source": [
        "sns.scatterplot(data=Testset, x=\"Years of Education\",y=\"Salary\")"
      ],
      "metadata": {
        "colab": {
          "base_uri": "https://localhost:8080/",
          "height": 296
        },
        "id": "gut-djL05ixa",
        "outputId": "9f160740-d652-48f9-eef4-068c35ded8c6"
      },
      "execution_count": 759,
      "outputs": [
        {
          "output_type": "execute_result",
          "data": {
            "text/plain": [
              "<matplotlib.axes._subplots.AxesSubplot at 0x7fb24022d910>"
            ]
          },
          "metadata": {},
          "execution_count": 759
        },
        {
          "output_type": "display_data",
          "data": {
            "text/plain": [
              "<Figure size 432x288 with 1 Axes>"
            ],
            "image/png": "[encoded data removed]"
          },
          "metadata": {
            "needs_background": "light"
          }
        }
      ]
    },
    {
      "cell_type": "code",
      "source": [
        "# Conducting Linear Regression method and inserting data using the fit method\n",
        "# Fit function adjusts weights according to data values so that better accuracy can be achieved\n",
        "\n",
        "lm = linear_model.LinearRegression(). fit(Training[[\"Years of Education\"]],Training[[\"Salary\"]])\n",
        "# Using the predict method\n",
        "result=lm.predict (Testset[[\"Years of Education\"]])"
      ],
      "metadata": {
        "id": "hzKQu2F357Se"
      },
      "execution_count": 760,
      "outputs": []
    },
    {
      "cell_type": "code",
      "source": [
        "# Creating a new column to place contents of the result variable\n",
        "Testset[\"Predicted Salary Using Sklearn method\"]= result\n",
        "Testset[\"Prediction Error Using Sklearn method\"] = Testset[\"Salary\"]-Testset[\"Predicted Salary Using Sklearn method\"]\n",
        "Testset.head()"
      ],
      "metadata": {
        "colab": {
          "base_uri": "https://localhost:8080/",
          "height": 267
        },
        "id": "m9Mu9QCY6E4r",
        "outputId": "828e28cb-c02d-4770-a332-33cddda1e4a9"
      },
      "execution_count": 761,
      "outputs": [
        {
          "output_type": "execute_result",
          "data": {
            "text/plain": [
              "         Age  YearsExperience  Years of Education  QYearsExperience  \\\n",
              "0  54.796262        14.552752                   9        211.782583   \n",
              "1  52.774087        14.169074                   7        200.762647   \n",
              "2  52.497483        14.486505                   5        209.858838   \n",
              "3  55.012830        15.776872                   6        248.909683   \n",
              "4  59.144511        16.275620                   6        264.895815   \n",
              "\n",
              "   CYearsExperience  CombinedParameter        Salary  \\\n",
              "0       3082.019357         624.141124  91019.026218   \n",
              "1       2844.620717         468.602126  65338.199471   \n",
              "2       3040.121191         334.919942  84974.970717   \n",
              "3       3927.016155         424.738210  79080.958366   \n",
              "4       4311.343690         452.520789  62774.559215   \n",
              "\n",
              "   Predicted Salary Using Sklearn method  \\\n",
              "0                           72732.184092   \n",
              "1                           74286.355413   \n",
              "2                           75840.526734   \n",
              "3                           75063.441073   \n",
              "4                           75063.441073   \n",
              "\n",
              "   Prediction Error Using Sklearn method  \n",
              "0                           18286.842126  \n",
              "1                           -8948.155941  \n",
              "2                            9134.443984  \n",
              "3                            4017.517292  \n",
              "4                          -12288.881858  "
            ],
            "text/html": [
              "\n",
              "  <div id=\"df-47b38618-e3cb-4e5a-a734-a646f12ba295\">\n",
              "    <div class=\"colab-df-container\">\n",
              "      <div>\n",
              "<style scoped>\n",
              "    .dataframe tbody tr th:only-of-type {\n",
              "        vertical-align: middle;\n",
              "    }\n",
              "\n",
              "    .dataframe tbody tr th {\n",
              "        vertical-align: top;\n",
              "    }\n",
              "\n",
              "    .dataframe thead th {\n",
              "        text-align: right;\n",
              "    }\n",
              "</style>\n",
              "<table border=\"1\" class=\"dataframe\">\n",
              "  <thead>\n",
              "    <tr style=\"text-align: right;\">\n",
              "      <th></th>\n",
              "      <th>Age</th>\n",
              "      <th>YearsExperience</th>\n",
              "      <th>Years of Education</th>\n",
              "      <th>QYearsExperience</th>\n",
              "      <th>CYearsExperience</th>\n",
              "      <th>CombinedParameter</th>\n",
              "      <th>Salary</th>\n",
              "      <th>Predicted Salary Using Sklearn method</th>\n",
              "      <th>Prediction Error Using Sklearn method</th>\n",
              "    </tr>\n",
              "  </thead>\n",
              "  <tbody>\n",
              "    <tr>\n",
              "      <th>0</th>\n",
              "      <td>54.796262</td>\n",
              "      <td>14.552752</td>\n",
              "      <td>9</td>\n",
              "      <td>211.782583</td>\n",
              "      <td>3082.019357</td>\n",
              "      <td>624.141124</td>\n",
              "      <td>91019.026218</td>\n",
              "      <td>72732.184092</td>\n",
              "      <td>18286.842126</td>\n",
              "    </tr>\n",
              "    <tr>\n",
              "      <th>1</th>\n",
              "      <td>52.774087</td>\n",
              "      <td>14.169074</td>\n",
              "      <td>7</td>\n",
              "      <td>200.762647</td>\n",
              "      <td>2844.620717</td>\n",
              "      <td>468.602126</td>\n",
              "      <td>65338.199471</td>\n",
              "      <td>74286.355413</td>\n",
              "      <td>-8948.155941</td>\n",
              "    </tr>\n",
              "    <tr>\n",
              "      <th>2</th>\n",
              "      <td>52.497483</td>\n",
              "      <td>14.486505</td>\n",
              "      <td>5</td>\n",
              "      <td>209.858838</td>\n",
              "      <td>3040.121191</td>\n",
              "      <td>334.919942</td>\n",
              "      <td>84974.970717</td>\n",
              "      <td>75840.526734</td>\n",
              "      <td>9134.443984</td>\n",
              "    </tr>\n",
              "    <tr>\n",
              "      <th>3</th>\n",
              "      <td>55.012830</td>\n",
              "      <td>15.776872</td>\n",
              "      <td>6</td>\n",
              "      <td>248.909683</td>\n",
              "      <td>3927.016155</td>\n",
              "      <td>424.738210</td>\n",
              "      <td>79080.958366</td>\n",
              "      <td>75063.441073</td>\n",
              "      <td>4017.517292</td>\n",
              "    </tr>\n",
              "    <tr>\n",
              "      <th>4</th>\n",
              "      <td>59.144511</td>\n",
              "      <td>16.275620</td>\n",
              "      <td>6</td>\n",
              "      <td>264.895815</td>\n",
              "      <td>4311.343690</td>\n",
              "      <td>452.520789</td>\n",
              "      <td>62774.559215</td>\n",
              "      <td>75063.441073</td>\n",
              "      <td>-12288.881858</td>\n",
              "    </tr>\n",
              "  </tbody>\n",
              "</table>\n",
              "</div>\n",
              "      <button class=\"colab-df-convert\" onclick=\"convertToInteractive('df-47b38618-e3cb-4e5a-a734-a646f12ba295')\"\n",
              "              title=\"Convert this dataframe to an interactive table.\"\n",
              "              style=\"display:none;\">\n",
              "        \n",
              "  <svg xmlns=\"http://www.w3.org/2000/svg\" height=\"24px\"viewBox=\"0 0 24 24\"\n",
              "       width=\"24px\">\n",
              "    <path d=\"M0 0h24v24H0V0z\" fill=\"none\"/>\n",
              "    <path d=\"M18.56 5.44l.94 2.06.94-2.06 2.06-.94-2.06-.94-.94-2.06-.94 2.06-2.06.94zm-11 1L8.5 8.5l.94-2.06 2.06-.94-2.06-.94L8.5 2.5l-.94 2.06-2.06.94zm10 10l.94 2.06.94-2.06 2.06-.94-2.06-.94-.94-2.06-.94 2.06-2.06.94z\"/><path d=\"M17.41 7.96l-1.37-1.37c-.4-.4-.92-.59-1.43-.59-.52 0-1.04.2-1.43.59L10.3 9.45l-7.72 7.72c-.78.78-.78 2.05 0 2.83L4 21.41c.39.39.9.59 1.41.59.51 0 1.02-.2 1.41-.59l7.78-7.78 2.81-2.81c.8-.78.8-2.07 0-2.86zM5.41 20L4 18.59l7.72-7.72 1.47 1.35L5.41 20z\"/>\n",
              "  </svg>\n",
              "      </button>\n",
              "      \n",
              "  <style>\n",
              "    .colab-df-container {\n",
              "      display:flex;\n",
              "      flex-wrap:wrap;\n",
              "      gap: 12px;\n",
              "    }\n",
              "\n",
              "    .colab-df-convert {\n",
              "      background-color: #E8F0FE;\n",
              "      border: none;\n",
              "      border-radius: 50%;\n",
              "      cursor: pointer;\n",
              "      display: none;\n",
              "      fill: #1967D2;\n",
              "      height: 32px;\n",
              "      padding: 0 0 0 0;\n",
              "      width: 32px;\n",
              "    }\n",
              "\n",
              "    .colab-df-convert:hover {\n",
              "      background-color: #E2EBFA;\n",
              "      box-shadow: 0px 1px 2px rgba(60, 64, 67, 0.3), 0px 1px 3px 1px rgba(60, 64, 67, 0.15);\n",
              "      fill: #174EA6;\n",
              "    }\n",
              "\n",
              "    [theme=dark] .colab-df-convert {\n",
              "      background-color: #3B4455;\n",
              "      fill: #D2E3FC;\n",
              "    }\n",
              "\n",
              "    [theme=dark] .colab-df-convert:hover {\n",
              "      background-color: #434B5C;\n",
              "      box-shadow: 0px 1px 3px 1px rgba(0, 0, 0, 0.15);\n",
              "      filter: drop-shadow(0px 1px 2px rgba(0, 0, 0, 0.3));\n",
              "      fill: #FFFFFF;\n",
              "    }\n",
              "  </style>\n",
              "\n",
              "      <script>\n",
              "        const buttonEl =\n",
              "          document.querySelector('#df-47b38618-e3cb-4e5a-a734-a646f12ba295 button.colab-df-convert');\n",
              "        buttonEl.style.display =\n",
              "          google.colab.kernel.accessAllowed ? 'block' : 'none';\n",
              "\n",
              "        async function convertToInteractive(key) {\n",
              "          const element = document.querySelector('#df-47b38618-e3cb-4e5a-a734-a646f12ba295');\n",
              "          const dataTable =\n",
              "            await google.colab.kernel.invokeFunction('convertToInteractive',\n",
              "                                                     [key], {});\n",
              "          if (!dataTable) return;\n",
              "\n",
              "          const docLinkHtml = 'Like what you see? Visit the ' +\n",
              "            '<a target=\"_blank\" href=https://colab.research.google.com/notebooks/data_table.ipynb>data table notebook</a>'\n",
              "            + ' to learn more about interactive tables.';\n",
              "          element.innerHTML = '';\n",
              "          dataTable['output_type'] = 'display_data';\n",
              "          await google.colab.output.renderOutput(dataTable, element);\n",
              "          const docLink = document.createElement('div');\n",
              "          docLink.innerHTML = docLinkHtml;\n",
              "          element.appendChild(docLink);\n",
              "        }\n",
              "      </script>\n",
              "    </div>\n",
              "  </div>\n",
              "  "
            ]
          },
          "metadata": {},
          "execution_count": 761
        }
      ]
    },
    {
      "cell_type": "code",
      "source": [
        "plt.scatter(Testset[\"Years of Education\"], Testset[\"Salary\"])\n",
        "plt.plot(Testset[\"Years of Education\"],Testset[\"Predicted Salary Using Sklearn method\"], color=\"violet\")\n",
        "plt.ylabel(\"Salary\")\n",
        "plt.xlabel(\"Years of Education\")\n",
        "plt.title(\"Linear Regression: Years of Education vS Corresponding Salary \")"
      ],
      "metadata": {
        "colab": {
          "base_uri": "https://localhost:8080/",
          "height": 312
        },
        "id": "7-YV6GWC6Lrn",
        "outputId": "f196a99a-76ca-45f9-9187-a55de61042ae"
      },
      "execution_count": 762,
      "outputs": [
        {
          "output_type": "execute_result",
          "data": {
            "text/plain": [
              "Text(0.5, 1.0, 'Linear Regression: Years of Education vS Corresponding Salary ')"
            ]
          },
          "metadata": {},
          "execution_count": 762
        },
        {
          "output_type": "display_data",
          "data": {
            "text/plain": [
              "<Figure size 432x288 with 1 Axes>"
            ],
            "image/png": "[encoded data removed]"
          },
          "metadata": {
            "needs_background": "light"
          }
        }
      ]
    },
    {
      "cell_type": "code",
      "source": [
        "m=lm.coef_"
      ],
      "metadata": {
        "id": "8b-4VYsI6U_r"
      },
      "execution_count": 763,
      "outputs": []
    },
    {
      "cell_type": "code",
      "source": [
        "b=lm.intercept_\n"
      ],
      "metadata": {
        "id": "T3RVXXfC6YQ4"
      },
      "execution_count": 764,
      "outputs": []
    },
    {
      "cell_type": "code",
      "source": [
        "#Testing for 7 years of education\n",
        "Salary = b + m * 7\n",
        "Salary"
      ],
      "metadata": {
        "colab": {
          "base_uri": "https://localhost:8080/"
        },
        "id": "boqYafPB6cwz",
        "outputId": "71387285-b7ca-453b-ebdf-bf381171db59"
      },
      "execution_count": 765,
      "outputs": [
        {
          "output_type": "execute_result",
          "data": {
            "text/plain": [
              "array([[74286.35541274]])"
            ]
          },
          "metadata": {},
          "execution_count": 765
        }
      ]
    },
    {
      "cell_type": "code",
      "source": [
        "lm.predict([[7]])"
      ],
      "metadata": {
        "id": "-PxfafgQ6leG",
        "outputId": "772e5ef8-2893-4599-bd37-c617b31aa8b3",
        "colab": {
          "base_uri": "https://localhost:8080/"
        }
      },
      "execution_count": 766,
      "outputs": [
        {
          "output_type": "stream",
          "name": "stderr",
          "text": [
            "/usr/local/lib/python3.7/dist-packages/sklearn/base.py:451: UserWarning: X does not have valid feature names, but LinearRegression was fitted with feature names\n",
            "  \"X does not have valid feature names, but\"\n"
          ]
        },
        {
          "output_type": "execute_result",
          "data": {
            "text/plain": [
              "array([[74286.35541274]])"
            ]
          },
          "metadata": {},
          "execution_count": 766
        }
      ]
    },
    {
      "cell_type": "code",
      "source": [
        "assert Salary == lm.predict([[7]])"
      ],
      "metadata": {
        "colab": {
          "base_uri": "https://localhost:8080/"
        },
        "id": "El_sKe8SOv2t",
        "outputId": "ff98ae21-631b-496a-a45d-02b04c7c1ceb"
      },
      "execution_count": 767,
      "outputs": [
        {
          "output_type": "stream",
          "name": "stderr",
          "text": [
            "/usr/local/lib/python3.7/dist-packages/sklearn/base.py:451: UserWarning: X does not have valid feature names, but LinearRegression was fitted with feature names\n",
            "  \"X does not have valid feature names, but\"\n"
          ]
        }
      ]
    },
    {
      "cell_type": "markdown",
      "source": [
        "THREE PARAMETERS VS SALARY\n"
      ],
      "metadata": {
        "id": "AobDEdPhQ56I"
      }
    },
    {
      "cell_type": "code",
      "source": [
        "sns.scatterplot(data=Testset, x=\"CombinedParameter\",y=\"Salary\")"
      ],
      "metadata": {
        "id": "_7SsDxGnRAyz",
        "colab": {
          "base_uri": "https://localhost:8080/",
          "height": 296
        },
        "outputId": "70df7a0d-140b-4b0e-8e4c-a689cbb8c9af"
      },
      "execution_count": 768,
      "outputs": [
        {
          "output_type": "execute_result",
          "data": {
            "text/plain": [
              "<matplotlib.axes._subplots.AxesSubplot at 0x7fb2401905d0>"
            ]
          },
          "metadata": {},
          "execution_count": 768
        },
        {
          "output_type": "display_data",
          "data": {
            "text/plain": [
              "<Figure size 432x288 with 1 Axes>"
            ],
            "image/png": "[encoded data removed]"
          },
          "metadata": {
            "needs_background": "light"
          }
        }
      ]
    },
    {
      "cell_type": "code",
      "source": [
        "# Conducting Linear Regression method and inserting data using the fit method\n",
        "# Fit function adjusts weights according to data values so that better accuracy can be achieved\n",
        "\n",
        "lm = linear_model.LinearRegression(). fit(Training[[\"CombinedParameter\"]],Training[[\"Salary\"]])\n",
        "# Using the predict method\n",
        "result=lm.predict (Testset[[\"CombinedParameter\"]])"
      ],
      "metadata": {
        "id": "Z_wc2KLcSjYR"
      },
      "execution_count": 769,
      "outputs": []
    },
    {
      "cell_type": "code",
      "source": [
        "# Creating a new column to place contents of the result variable\n",
        "Testset[\"Predicted Salary Using Sklearn method\"]= result\n",
        "Testset[\"Prediction Error Using Sklearn method\"] = Testset[\"Salary\"]-Testset[\"Predicted Salary Using Sklearn method\"]\n",
        "Testset.head()"
      ],
      "metadata": {
        "colab": {
          "base_uri": "https://localhost:8080/",
          "height": 267
        },
        "id": "Jiu9LOuASu5G",
        "outputId": "36b4fbdf-0952-424c-b980-9aafc065098a"
      },
      "execution_count": 770,
      "outputs": [
        {
          "output_type": "execute_result",
          "data": {
            "text/plain": [
              "         Age  YearsExperience  Years of Education  QYearsExperience  \\\n",
              "0  54.796262        14.552752                   9        211.782583   \n",
              "1  52.774087        14.169074                   7        200.762647   \n",
              "2  52.497483        14.486505                   5        209.858838   \n",
              "3  55.012830        15.776872                   6        248.909683   \n",
              "4  59.144511        16.275620                   6        264.895815   \n",
              "\n",
              "   CYearsExperience  CombinedParameter        Salary  \\\n",
              "0       3082.019357         624.141124  91019.026218   \n",
              "1       2844.620717         468.602126  65338.199471   \n",
              "2       3040.121191         334.919942  84974.970717   \n",
              "3       3927.016155         424.738210  79080.958366   \n",
              "4       4311.343690         452.520789  62774.559215   \n",
              "\n",
              "   Predicted Salary Using Sklearn method  \\\n",
              "0                           73460.213203   \n",
              "1                           74844.211816   \n",
              "2                           76033.726727   \n",
              "3                           75234.516495   \n",
              "4                           74987.304851   \n",
              "\n",
              "   Prediction Error Using Sklearn method  \n",
              "0                           17558.813015  \n",
              "1                           -9506.012344  \n",
              "2                            8941.243991  \n",
              "3                            3846.441871  \n",
              "4                          -12212.745636  "
            ],
            "text/html": [
              "\n",
              "  <div id=\"df-d234f531-6ae1-4367-91a8-23421618ad61\">\n",
              "    <div class=\"colab-df-container\">\n",
              "      <div>\n",
              "<style scoped>\n",
              "    .dataframe tbody tr th:only-of-type {\n",
              "        vertical-align: middle;\n",
              "    }\n",
              "\n",
              "    .dataframe tbody tr th {\n",
              "        vertical-align: top;\n",
              "    }\n",
              "\n",
              "    .dataframe thead th {\n",
              "        text-align: right;\n",
              "    }\n",
              "</style>\n",
              "<table border=\"1\" class=\"dataframe\">\n",
              "  <thead>\n",
              "    <tr style=\"text-align: right;\">\n",
              "      <th></th>\n",
              "      <th>Age</th>\n",
              "      <th>YearsExperience</th>\n",
              "      <th>Years of Education</th>\n",
              "      <th>QYearsExperience</th>\n",
              "      <th>CYearsExperience</th>\n",
              "      <th>CombinedParameter</th>\n",
              "      <th>Salary</th>\n",
              "      <th>Predicted Salary Using Sklearn method</th>\n",
              "      <th>Prediction Error Using Sklearn method</th>\n",
              "    </tr>\n",
              "  </thead>\n",
              "  <tbody>\n",
              "    <tr>\n",
              "      <th>0</th>\n",
              "      <td>54.796262</td>\n",
              "      <td>14.552752</td>\n",
              "      <td>9</td>\n",
              "      <td>211.782583</td>\n",
              "      <td>3082.019357</td>\n",
              "      <td>624.141124</td>\n",
              "      <td>91019.026218</td>\n",
              "      <td>73460.213203</td>\n",
              "      <td>17558.813015</td>\n",
              "    </tr>\n",
              "    <tr>\n",
              "      <th>1</th>\n",
              "      <td>52.774087</td>\n",
              "      <td>14.169074</td>\n",
              "      <td>7</td>\n",
              "      <td>200.762647</td>\n",
              "      <td>2844.620717</td>\n",
              "      <td>468.602126</td>\n",
              "      <td>65338.199471</td>\n",
              "      <td>74844.211816</td>\n",
              "      <td>-9506.012344</td>\n",
              "    </tr>\n",
              "    <tr>\n",
              "      <th>2</th>\n",
              "      <td>52.497483</td>\n",
              "      <td>14.486505</td>\n",
              "      <td>5</td>\n",
              "      <td>209.858838</td>\n",
              "      <td>3040.121191</td>\n",
              "      <td>334.919942</td>\n",
              "      <td>84974.970717</td>\n",
              "      <td>76033.726727</td>\n",
              "      <td>8941.243991</td>\n",
              "    </tr>\n",
              "    <tr>\n",
              "      <th>3</th>\n",
              "      <td>55.012830</td>\n",
              "      <td>15.776872</td>\n",
              "      <td>6</td>\n",
              "      <td>248.909683</td>\n",
              "      <td>3927.016155</td>\n",
              "      <td>424.738210</td>\n",
              "      <td>79080.958366</td>\n",
              "      <td>75234.516495</td>\n",
              "      <td>3846.441871</td>\n",
              "    </tr>\n",
              "    <tr>\n",
              "      <th>4</th>\n",
              "      <td>59.144511</td>\n",
              "      <td>16.275620</td>\n",
              "      <td>6</td>\n",
              "      <td>264.895815</td>\n",
              "      <td>4311.343690</td>\n",
              "      <td>452.520789</td>\n",
              "      <td>62774.559215</td>\n",
              "      <td>74987.304851</td>\n",
              "      <td>-12212.745636</td>\n",
              "    </tr>\n",
              "  </tbody>\n",
              "</table>\n",
              "</div>\n",
              "      <button class=\"colab-df-convert\" onclick=\"convertToInteractive('df-d234f531-6ae1-4367-91a8-23421618ad61')\"\n",
              "              title=\"Convert this dataframe to an interactive table.\"\n",
              "              style=\"display:none;\">\n",
              "        \n",
              "  <svg xmlns=\"http://www.w3.org/2000/svg\" height=\"24px\"viewBox=\"0 0 24 24\"\n",
              "       width=\"24px\">\n",
              "    <path d=\"M0 0h24v24H0V0z\" fill=\"none\"/>\n",
              "    <path d=\"M18.56 5.44l.94 2.06.94-2.06 2.06-.94-2.06-.94-.94-2.06-.94 2.06-2.06.94zm-11 1L8.5 8.5l.94-2.06 2.06-.94-2.06-.94L8.5 2.5l-.94 2.06-2.06.94zm10 10l.94 2.06.94-2.06 2.06-.94-2.06-.94-.94-2.06-.94 2.06-2.06.94z\"/><path d=\"M17.41 7.96l-1.37-1.37c-.4-.4-.92-.59-1.43-.59-.52 0-1.04.2-1.43.59L10.3 9.45l-7.72 7.72c-.78.78-.78 2.05 0 2.83L4 21.41c.39.39.9.59 1.41.59.51 0 1.02-.2 1.41-.59l7.78-7.78 2.81-2.81c.8-.78.8-2.07 0-2.86zM5.41 20L4 18.59l7.72-7.72 1.47 1.35L5.41 20z\"/>\n",
              "  </svg>\n",
              "      </button>\n",
              "      \n",
              "  <style>\n",
              "    .colab-df-container {\n",
              "      display:flex;\n",
              "      flex-wrap:wrap;\n",
              "      gap: 12px;\n",
              "    }\n",
              "\n",
              "    .colab-df-convert {\n",
              "      background-color: #E8F0FE;\n",
              "      border: none;\n",
              "      border-radius: 50%;\n",
              "      cursor: pointer;\n",
              "      display: none;\n",
              "      fill: #1967D2;\n",
              "      height: 32px;\n",
              "      padding: 0 0 0 0;\n",
              "      width: 32px;\n",
              "    }\n",
              "\n",
              "    .colab-df-convert:hover {\n",
              "      background-color: #E2EBFA;\n",
              "      box-shadow: 0px 1px 2px rgba(60, 64, 67, 0.3), 0px 1px 3px 1px rgba(60, 64, 67, 0.15);\n",
              "      fill: #174EA6;\n",
              "    }\n",
              "\n",
              "    [theme=dark] .colab-df-convert {\n",
              "      background-color: #3B4455;\n",
              "      fill: #D2E3FC;\n",
              "    }\n",
              "\n",
              "    [theme=dark] .colab-df-convert:hover {\n",
              "      background-color: #434B5C;\n",
              "      box-shadow: 0px 1px 3px 1px rgba(0, 0, 0, 0.15);\n",
              "      filter: drop-shadow(0px 1px 2px rgba(0, 0, 0, 0.3));\n",
              "      fill: #FFFFFF;\n",
              "    }\n",
              "  </style>\n",
              "\n",
              "      <script>\n",
              "        const buttonEl =\n",
              "          document.querySelector('#df-d234f531-6ae1-4367-91a8-23421618ad61 button.colab-df-convert');\n",
              "        buttonEl.style.display =\n",
              "          google.colab.kernel.accessAllowed ? 'block' : 'none';\n",
              "\n",
              "        async function convertToInteractive(key) {\n",
              "          const element = document.querySelector('#df-d234f531-6ae1-4367-91a8-23421618ad61');\n",
              "          const dataTable =\n",
              "            await google.colab.kernel.invokeFunction('convertToInteractive',\n",
              "                                                     [key], {});\n",
              "          if (!dataTable) return;\n",
              "\n",
              "          const docLinkHtml = 'Like what you see? Visit the ' +\n",
              "            '<a target=\"_blank\" href=https://colab.research.google.com/notebooks/data_table.ipynb>data table notebook</a>'\n",
              "            + ' to learn more about interactive tables.';\n",
              "          element.innerHTML = '';\n",
              "          dataTable['output_type'] = 'display_data';\n",
              "          await google.colab.output.renderOutput(dataTable, element);\n",
              "          const docLink = document.createElement('div');\n",
              "          docLink.innerHTML = docLinkHtml;\n",
              "          element.appendChild(docLink);\n",
              "        }\n",
              "      </script>\n",
              "    </div>\n",
              "  </div>\n",
              "  "
            ]
          },
          "metadata": {},
          "execution_count": 770
        }
      ]
    },
    {
      "cell_type": "code",
      "source": [
        "plt.scatter(Testset[\"CombinedParameter\"], Testset[\"Salary\"])\n",
        "plt.plot(Testset[\"CombinedParameter\"],Testset[\"Predicted Salary Using Sklearn method\"], color=\"orange\")\n",
        "plt.ylabel(\"Salary\")\n",
        "plt.xlabel(\"Combined Parameters\")\n",
        "plt.title(\"Linear Regression: Combined Parameters vS Corresponding Salary \")"
      ],
      "metadata": {
        "colab": {
          "base_uri": "https://localhost:8080/",
          "height": 312
        },
        "id": "VfNzF5AfS6Ea",
        "outputId": "16045765-ab58-477c-ce11-a8b12ee4ab59"
      },
      "execution_count": 771,
      "outputs": [
        {
          "output_type": "execute_result",
          "data": {
            "text/plain": [
              "Text(0.5, 1.0, 'Linear Regression: Combined Parameters vS Corresponding Salary ')"
            ]
          },
          "metadata": {},
          "execution_count": 771
        },
        {
          "output_type": "display_data",
          "data": {
            "text/plain": [
              "<Figure size 432x288 with 1 Axes>"
            ],
            "image/png": "[encoded data removed]"
          },
          "metadata": {
            "needs_background": "light"
          }
        }
      ]
    },
    {
      "cell_type": "code",
      "source": [
        "m=lm.coef_"
      ],
      "metadata": {
        "id": "n4kFMoHcTOBh"
      },
      "execution_count": 772,
      "outputs": []
    },
    {
      "cell_type": "code",
      "source": [
        "b=lm.intercept_"
      ],
      "metadata": {
        "id": "zWw23MkqTSEm"
      },
      "execution_count": 773,
      "outputs": []
    },
    {
      "cell_type": "code",
      "source": [
        "#Testing for 7 years of education\n",
        "Salary = b + m * 7\n",
        "Salary"
      ],
      "metadata": {
        "colab": {
          "base_uri": "https://localhost:8080/"
        },
        "id": "T_xbMfwjTUhL",
        "outputId": "ce244675-928f-4c99-8e4b-e844a4466572"
      },
      "execution_count": 774,
      "outputs": [
        {
          "output_type": "execute_result",
          "data": {
            "text/plain": [
              "array([[78951.584948]])"
            ]
          },
          "metadata": {},
          "execution_count": 774
        }
      ]
    },
    {
      "cell_type": "code",
      "source": [
        "lm.predict([[7]])"
      ],
      "metadata": {
        "colab": {
          "base_uri": "https://localhost:8080/"
        },
        "id": "3bSNTsNETXp-",
        "outputId": "c2dc41bc-b163-480b-dbfe-863cf54e4957"
      },
      "execution_count": 775,
      "outputs": [
        {
          "output_type": "stream",
          "name": "stderr",
          "text": [
            "/usr/local/lib/python3.7/dist-packages/sklearn/base.py:451: UserWarning: X does not have valid feature names, but LinearRegression was fitted with feature names\n",
            "  \"X does not have valid feature names, but\"\n"
          ]
        },
        {
          "output_type": "execute_result",
          "data": {
            "text/plain": [
              "array([[78951.584948]])"
            ]
          },
          "metadata": {},
          "execution_count": 775
        }
      ]
    },
    {
      "cell_type": "code",
      "source": [
        "assert Salary == lm.predict([[7]])"
      ],
      "metadata": {
        "colab": {
          "base_uri": "https://localhost:8080/"
        },
        "id": "VUlJjmCqTcck",
        "outputId": "0449e106-262c-472b-c139-f44e08479d5e"
      },
      "execution_count": 776,
      "outputs": [
        {
          "output_type": "stream",
          "name": "stderr",
          "text": [
            "/usr/local/lib/python3.7/dist-packages/sklearn/base.py:451: UserWarning: X does not have valid feature names, but LinearRegression was fitted with feature names\n",
            "  \"X does not have valid feature names, but\"\n"
          ]
        }
      ]
    },
    {
      "cell_type": "markdown",
      "source": [
        "QUADRATIC YEARS OF EDUCATION VS SALARY\n"
      ],
      "metadata": {
        "id": "rE7TVUxnUHRp"
      }
    },
    {
      "cell_type": "code",
      "source": [
        "sns.scatterplot(data=Testset, x=\"QYearsExperience\",y=\"Salary\")"
      ],
      "metadata": {
        "colab": {
          "base_uri": "https://localhost:8080/",
          "height": 296
        },
        "id": "F6-Ke-eHUcpT",
        "outputId": "e1f7e15c-9983-4176-ec3d-eed02034d7d5"
      },
      "execution_count": 777,
      "outputs": [
        {
          "output_type": "execute_result",
          "data": {
            "text/plain": [
              "<matplotlib.axes._subplots.AxesSubplot at 0x7fb24001d390>"
            ]
          },
          "metadata": {},
          "execution_count": 777
        },
        {
          "output_type": "display_data",
          "data": {
            "text/plain": [
              "<Figure size 432x288 with 1 Axes>"
            ],
            "image/png": "[encoded data removed]"
          },
          "metadata": {
            "needs_background": "light"
          }
        }
      ]
    },
    {
      "cell_type": "code",
      "source": [
        "# Conducting Linear Regression method and inserting data using the fit method\n",
        "# Fit function adjusts weights according to data values so that better accuracy can be achieved\n",
        "\n",
        "lm = linear_model.LinearRegression(). fit(Training[[\"QYearsExperience\"]],Training[[\"Salary\"]])\n",
        "# Using the predict method\n",
        "result=lm.predict (Testset[[\"QYearsExperience\"]])"
      ],
      "metadata": {
        "id": "bS3unTVFUm76"
      },
      "execution_count": 778,
      "outputs": []
    },
    {
      "cell_type": "code",
      "source": [
        "# Creating a new column to place contents of the result variable\n",
        "Testset[\"Predicted Salary Using Sklearn method\"]= result\n",
        "Testset[\"Prediction Error Using Sklearn method\"] = Testset[\"Salary\"]-Testset[\"Predicted Salary Using Sklearn method\"]\n",
        "Testset.head()"
      ],
      "metadata": {
        "colab": {
          "base_uri": "https://localhost:8080/",
          "height": 267
        },
        "id": "3LNfjdyoUskH",
        "outputId": "0a6ca4fc-a9e3-4b11-f26a-d80d87429166"
      },
      "execution_count": 779,
      "outputs": [
        {
          "output_type": "execute_result",
          "data": {
            "text/plain": [
              "         Age  YearsExperience  Years of Education  QYearsExperience  \\\n",
              "0  54.796262        14.552752                   9        211.782583   \n",
              "1  52.774087        14.169074                   7        200.762647   \n",
              "2  52.497483        14.486505                   5        209.858838   \n",
              "3  55.012830        15.776872                   6        248.909683   \n",
              "4  59.144511        16.275620                   6        264.895815   \n",
              "\n",
              "   CYearsExperience  CombinedParameter        Salary  \\\n",
              "0       3082.019357         624.141124  91019.026218   \n",
              "1       2844.620717         468.602126  65338.199471   \n",
              "2       3040.121191         334.919942  84974.970717   \n",
              "3       3927.016155         424.738210  79080.958366   \n",
              "4       4311.343690         452.520789  62774.559215   \n",
              "\n",
              "   Predicted Salary Using Sklearn method  \\\n",
              "0                           74734.978572   \n",
              "1                           74686.998250   \n",
              "2                           74726.602671   \n",
              "3                           74896.628343   \n",
              "4                           74966.231262   \n",
              "\n",
              "   Prediction Error Using Sklearn method  \n",
              "0                           16284.047646  \n",
              "1                           -9348.798778  \n",
              "2                           10248.368047  \n",
              "3                            4184.330022  \n",
              "4                          -12191.672047  "
            ],
            "text/html": [
              "\n",
              "  <div id=\"df-38d56d53-ffbc-4cb6-9a98-64e9f010ea55\">\n",
              "    <div class=\"colab-df-container\">\n",
              "      <div>\n",
              "<style scoped>\n",
              "    .dataframe tbody tr th:only-of-type {\n",
              "        vertical-align: middle;\n",
              "    }\n",
              "\n",
              "    .dataframe tbody tr th {\n",
              "        vertical-align: top;\n",
              "    }\n",
              "\n",
              "    .dataframe thead th {\n",
              "        text-align: right;\n",
              "    }\n",
              "</style>\n",
              "<table border=\"1\" class=\"dataframe\">\n",
              "  <thead>\n",
              "    <tr style=\"text-align: right;\">\n",
              "      <th></th>\n",
              "      <th>Age</th>\n",
              "      <th>YearsExperience</th>\n",
              "      <th>Years of Education</th>\n",
              "      <th>QYearsExperience</th>\n",
              "      <th>CYearsExperience</th>\n",
              "      <th>CombinedParameter</th>\n",
              "      <th>Salary</th>\n",
              "      <th>Predicted Salary Using Sklearn method</th>\n",
              "      <th>Prediction Error Using Sklearn method</th>\n",
              "    </tr>\n",
              "  </thead>\n",
              "  <tbody>\n",
              "    <tr>\n",
              "      <th>0</th>\n",
              "      <td>54.796262</td>\n",
              "      <td>14.552752</td>\n",
              "      <td>9</td>\n",
              "      <td>211.782583</td>\n",
              "      <td>3082.019357</td>\n",
              "      <td>624.141124</td>\n",
              "      <td>91019.026218</td>\n",
              "      <td>74734.978572</td>\n",
              "      <td>16284.047646</td>\n",
              "    </tr>\n",
              "    <tr>\n",
              "      <th>1</th>\n",
              "      <td>52.774087</td>\n",
              "      <td>14.169074</td>\n",
              "      <td>7</td>\n",
              "      <td>200.762647</td>\n",
              "      <td>2844.620717</td>\n",
              "      <td>468.602126</td>\n",
              "      <td>65338.199471</td>\n",
              "      <td>74686.998250</td>\n",
              "      <td>-9348.798778</td>\n",
              "    </tr>\n",
              "    <tr>\n",
              "      <th>2</th>\n",
              "      <td>52.497483</td>\n",
              "      <td>14.486505</td>\n",
              "      <td>5</td>\n",
              "      <td>209.858838</td>\n",
              "      <td>3040.121191</td>\n",
              "      <td>334.919942</td>\n",
              "      <td>84974.970717</td>\n",
              "      <td>74726.602671</td>\n",
              "      <td>10248.368047</td>\n",
              "    </tr>\n",
              "    <tr>\n",
              "      <th>3</th>\n",
              "      <td>55.012830</td>\n",
              "      <td>15.776872</td>\n",
              "      <td>6</td>\n",
              "      <td>248.909683</td>\n",
              "      <td>3927.016155</td>\n",
              "      <td>424.738210</td>\n",
              "      <td>79080.958366</td>\n",
              "      <td>74896.628343</td>\n",
              "      <td>4184.330022</td>\n",
              "    </tr>\n",
              "    <tr>\n",
              "      <th>4</th>\n",
              "      <td>59.144511</td>\n",
              "      <td>16.275620</td>\n",
              "      <td>6</td>\n",
              "      <td>264.895815</td>\n",
              "      <td>4311.343690</td>\n",
              "      <td>452.520789</td>\n",
              "      <td>62774.559215</td>\n",
              "      <td>74966.231262</td>\n",
              "      <td>-12191.672047</td>\n",
              "    </tr>\n",
              "  </tbody>\n",
              "</table>\n",
              "</div>\n",
              "      <button class=\"colab-df-convert\" onclick=\"convertToInteractive('df-38d56d53-ffbc-4cb6-9a98-64e9f010ea55')\"\n",
              "              title=\"Convert this dataframe to an interactive table.\"\n",
              "              style=\"display:none;\">\n",
              "        \n",
              "  <svg xmlns=\"http://www.w3.org/2000/svg\" height=\"24px\"viewBox=\"0 0 24 24\"\n",
              "       width=\"24px\">\n",
              "    <path d=\"M0 0h24v24H0V0z\" fill=\"none\"/>\n",
              "    <path d=\"M18.56 5.44l.94 2.06.94-2.06 2.06-.94-2.06-.94-.94-2.06-.94 2.06-2.06.94zm-11 1L8.5 8.5l.94-2.06 2.06-.94-2.06-.94L8.5 2.5l-.94 2.06-2.06.94zm10 10l.94 2.06.94-2.06 2.06-.94-2.06-.94-.94-2.06-.94 2.06-2.06.94z\"/><path d=\"M17.41 7.96l-1.37-1.37c-.4-.4-.92-.59-1.43-.59-.52 0-1.04.2-1.43.59L10.3 9.45l-7.72 7.72c-.78.78-.78 2.05 0 2.83L4 21.41c.39.39.9.59 1.41.59.51 0 1.02-.2 1.41-.59l7.78-7.78 2.81-2.81c.8-.78.8-2.07 0-2.86zM5.41 20L4 18.59l7.72-7.72 1.47 1.35L5.41 20z\"/>\n",
              "  </svg>\n",
              "      </button>\n",
              "      \n",
              "  <style>\n",
              "    .colab-df-container {\n",
              "      display:flex;\n",
              "      flex-wrap:wrap;\n",
              "      gap: 12px;\n",
              "    }\n",
              "\n",
              "    .colab-df-convert {\n",
              "      background-color: #E8F0FE;\n",
              "      border: none;\n",
              "      border-radius: 50%;\n",
              "      cursor: pointer;\n",
              "      display: none;\n",
              "      fill: #1967D2;\n",
              "      height: 32px;\n",
              "      padding: 0 0 0 0;\n",
              "      width: 32px;\n",
              "    }\n",
              "\n",
              "    .colab-df-convert:hover {\n",
              "      background-color: #E2EBFA;\n",
              "      box-shadow: 0px 1px 2px rgba(60, 64, 67, 0.3), 0px 1px 3px 1px rgba(60, 64, 67, 0.15);\n",
              "      fill: #174EA6;\n",
              "    }\n",
              "\n",
              "    [theme=dark] .colab-df-convert {\n",
              "      background-color: #3B4455;\n",
              "      fill: #D2E3FC;\n",
              "    }\n",
              "\n",
              "    [theme=dark] .colab-df-convert:hover {\n",
              "      background-color: #434B5C;\n",
              "      box-shadow: 0px 1px 3px 1px rgba(0, 0, 0, 0.15);\n",
              "      filter: drop-shadow(0px 1px 2px rgba(0, 0, 0, 0.3));\n",
              "      fill: #FFFFFF;\n",
              "    }\n",
              "  </style>\n",
              "\n",
              "      <script>\n",
              "        const buttonEl =\n",
              "          document.querySelector('#df-38d56d53-ffbc-4cb6-9a98-64e9f010ea55 button.colab-df-convert');\n",
              "        buttonEl.style.display =\n",
              "          google.colab.kernel.accessAllowed ? 'block' : 'none';\n",
              "\n",
              "        async function convertToInteractive(key) {\n",
              "          const element = document.querySelector('#df-38d56d53-ffbc-4cb6-9a98-64e9f010ea55');\n",
              "          const dataTable =\n",
              "            await google.colab.kernel.invokeFunction('convertToInteractive',\n",
              "                                                     [key], {});\n",
              "          if (!dataTable) return;\n",
              "\n",
              "          const docLinkHtml = 'Like what you see? Visit the ' +\n",
              "            '<a target=\"_blank\" href=https://colab.research.google.com/notebooks/data_table.ipynb>data table notebook</a>'\n",
              "            + ' to learn more about interactive tables.';\n",
              "          element.innerHTML = '';\n",
              "          dataTable['output_type'] = 'display_data';\n",
              "          await google.colab.output.renderOutput(dataTable, element);\n",
              "          const docLink = document.createElement('div');\n",
              "          docLink.innerHTML = docLinkHtml;\n",
              "          element.appendChild(docLink);\n",
              "        }\n",
              "      </script>\n",
              "    </div>\n",
              "  </div>\n",
              "  "
            ]
          },
          "metadata": {},
          "execution_count": 779
        }
      ]
    },
    {
      "cell_type": "code",
      "source": [
        "plt.scatter(Testset[\"QYearsExperience\"], Testset[\"Salary\"])\n",
        "plt.plot(Testset[\"QYearsExperience\"],Testset[\"Predicted Salary Using Sklearn method\"], color=\"maroon\")\n",
        "plt.ylabel(\"Salary\")\n",
        "plt.xlabel(\"Quadratic Years of experience\")\n",
        "plt.title(\"Linear Regression: Years of experience vS Corresponding Salary \")"
      ],
      "metadata": {
        "colab": {
          "base_uri": "https://localhost:8080/",
          "height": 312
        },
        "id": "1WvyWAmnUw3f",
        "outputId": "cf5da846-ab7e-48b1-cd5d-7c92dbf3063a"
      },
      "execution_count": 780,
      "outputs": [
        {
          "output_type": "execute_result",
          "data": {
            "text/plain": [
              "Text(0.5, 1.0, 'Linear Regression: Years of experience vS Corresponding Salary ')"
            ]
          },
          "metadata": {},
          "execution_count": 780
        },
        {
          "output_type": "display_data",
          "data": {
            "text/plain": [
              "<Figure size 432x288 with 1 Axes>"
            ],
            "image/png": "[encoded data removed]"
          },
          "metadata": {
            "needs_background": "light"
          }
        }
      ]
    },
    {
      "cell_type": "code",
      "source": [
        "m=lm.coef_"
      ],
      "metadata": {
        "id": "Q-V5BVl7U6UW"
      },
      "execution_count": 781,
      "outputs": []
    },
    {
      "cell_type": "code",
      "source": [
        "b=lm.intercept_"
      ],
      "metadata": {
        "id": "oV4FG04pU9j5"
      },
      "execution_count": 782,
      "outputs": []
    },
    {
      "cell_type": "code",
      "source": [
        "#Testing for 7 years of education\n",
        "Salary = b + m * 7\n",
        "Salary"
      ],
      "metadata": {
        "colab": {
          "base_uri": "https://localhost:8080/"
        },
        "id": "aIJoW4JiVAEE",
        "outputId": "4ecc3cf0-d562-4203-d37d-24b3f5174084"
      },
      "execution_count": 783,
      "outputs": [
        {
          "output_type": "execute_result",
          "data": {
            "text/plain": [
              "array([[73843.36414974]])"
            ]
          },
          "metadata": {},
          "execution_count": 783
        }
      ]
    },
    {
      "cell_type": "code",
      "source": [
        "lm.predict([[7]])"
      ],
      "metadata": {
        "colab": {
          "base_uri": "https://localhost:8080/"
        },
        "id": "or2Vtv1OVC-Q",
        "outputId": "9fc7bcd5-170c-42c6-a001-07c4c170b39d"
      },
      "execution_count": 784,
      "outputs": [
        {
          "output_type": "stream",
          "name": "stderr",
          "text": [
            "/usr/local/lib/python3.7/dist-packages/sklearn/base.py:451: UserWarning: X does not have valid feature names, but LinearRegression was fitted with feature names\n",
            "  \"X does not have valid feature names, but\"\n"
          ]
        },
        {
          "output_type": "execute_result",
          "data": {
            "text/plain": [
              "array([[73843.36414974]])"
            ]
          },
          "metadata": {},
          "execution_count": 784
        }
      ]
    },
    {
      "cell_type": "code",
      "source": [
        "assert Salary == lm.predict([[7]])"
      ],
      "metadata": {
        "colab": {
          "base_uri": "https://localhost:8080/"
        },
        "id": "FDpkF6ARVGPV",
        "outputId": "e266c624-2447-474d-a29e-5bb4e9adcaf2"
      },
      "execution_count": 785,
      "outputs": [
        {
          "output_type": "stream",
          "name": "stderr",
          "text": [
            "/usr/local/lib/python3.7/dist-packages/sklearn/base.py:451: UserWarning: X does not have valid feature names, but LinearRegression was fitted with feature names\n",
            "  \"X does not have valid feature names, but\"\n"
          ]
        }
      ]
    },
    {
      "cell_type": "markdown",
      "source": [
        "CUBIC YEARS OF EXPERIENCE VS SALARY"
      ],
      "metadata": {
        "id": "vPLKeqJvaM9Z"
      }
    },
    {
      "cell_type": "code",
      "source": [
        "sns.scatterplot(data=Testset, x=\"CYearsExperience\",y=\"Salary\")"
      ],
      "metadata": {
        "colab": {
          "base_uri": "https://localhost:8080/",
          "height": 296
        },
        "id": "iMUoN8ToaXXU",
        "outputId": "df91613b-b2a7-4f28-b2cb-9568e8ec5450"
      },
      "execution_count": 786,
      "outputs": [
        {
          "output_type": "execute_result",
          "data": {
            "text/plain": [
              "<matplotlib.axes._subplots.AxesSubplot at 0x7fb23ffc6f50>"
            ]
          },
          "metadata": {},
          "execution_count": 786
        },
        {
          "output_type": "display_data",
          "data": {
            "text/plain": [
              "<Figure size 432x288 with 1 Axes>"
            ],
            "image/png": "[encoded data removed]"
          },
          "metadata": {
            "needs_background": "light"
          }
        }
      ]
    },
    {
      "cell_type": "code",
      "source": [
        "# Conducting Linear Regression method and inserting data using the fit method\n",
        "# Fit function adjusts weights according to data values so that better accuracy can be achieved\n",
        "#Dataset = pd.read_csv(\"T.csv\")\n",
        "lm = linear_model.LinearRegression(). fit(Training[[\"CYearsExperience\"]],Training[[\"Salary\"]])\n",
        "# Using the predict method\n",
        "\n",
        "result=lm.predict(Testset[[\"CYearsExperience\"]])"
      ],
      "metadata": {
        "id": "XBqEv9WrasFo"
      },
      "execution_count": 787,
      "outputs": []
    },
    {
      "cell_type": "code",
      "source": [
        "# Creating a new column to place contents of the result variable\n",
        "Testset[\"Predicted Salary Using Sklearn method\"]= result\n",
        "Testset[\"Prediction Error Using Sklearn method\"] = Testset[\"Salary\"]-Testset[\"Predicted Salary Using Sklearn method\"]\n",
        "Testset.head()"
      ],
      "metadata": {
        "colab": {
          "base_uri": "https://localhost:8080/",
          "height": 267
        },
        "id": "9JDiG2LQbESn",
        "outputId": "57667fe2-d397-4e73-f2a3-827358514e04"
      },
      "execution_count": 788,
      "outputs": [
        {
          "output_type": "execute_result",
          "data": {
            "text/plain": [
              "         Age  YearsExperience  Years of Education  QYearsExperience  \\\n",
              "0  54.796262        14.552752                   9        211.782583   \n",
              "1  52.774087        14.169074                   7        200.762647   \n",
              "2  52.497483        14.486505                   5        209.858838   \n",
              "3  55.012830        15.776872                   6        248.909683   \n",
              "4  59.144511        16.275620                   6        264.895815   \n",
              "\n",
              "   CYearsExperience  CombinedParameter        Salary  \\\n",
              "0       3082.019357         624.141124  91019.026218   \n",
              "1       2844.620717         468.602126  65338.199471   \n",
              "2       3040.121191         334.919942  84974.970717   \n",
              "3       3927.016155         424.738210  79080.958366   \n",
              "4       4311.343690         452.520789  62774.559215   \n",
              "\n",
              "   Predicted Salary Using Sklearn method  \\\n",
              "0                           74757.512626   \n",
              "1                           74720.579873   \n",
              "2                           74750.994414   \n",
              "3                           74888.971080   \n",
              "4                           74948.761961   \n",
              "\n",
              "   Prediction Error Using Sklearn method  \n",
              "0                           16261.513592  \n",
              "1                           -9382.380402  \n",
              "2                           10223.976303  \n",
              "3                            4191.987286  \n",
              "4                          -12174.202746  "
            ],
            "text/html": [
              "\n",
              "  <div id=\"df-f8a45a9c-21fc-4e3e-bfe6-e8df515dd9a1\">\n",
              "    <div class=\"colab-df-container\">\n",
              "      <div>\n",
              "<style scoped>\n",
              "    .dataframe tbody tr th:only-of-type {\n",
              "        vertical-align: middle;\n",
              "    }\n",
              "\n",
              "    .dataframe tbody tr th {\n",
              "        vertical-align: top;\n",
              "    }\n",
              "\n",
              "    .dataframe thead th {\n",
              "        text-align: right;\n",
              "    }\n",
              "</style>\n",
              "<table border=\"1\" class=\"dataframe\">\n",
              "  <thead>\n",
              "    <tr style=\"text-align: right;\">\n",
              "      <th></th>\n",
              "      <th>Age</th>\n",
              "      <th>YearsExperience</th>\n",
              "      <th>Years of Education</th>\n",
              "      <th>QYearsExperience</th>\n",
              "      <th>CYearsExperience</th>\n",
              "      <th>CombinedParameter</th>\n",
              "      <th>Salary</th>\n",
              "      <th>Predicted Salary Using Sklearn method</th>\n",
              "      <th>Prediction Error Using Sklearn method</th>\n",
              "    </tr>\n",
              "  </thead>\n",
              "  <tbody>\n",
              "    <tr>\n",
              "      <th>0</th>\n",
              "      <td>54.796262</td>\n",
              "      <td>14.552752</td>\n",
              "      <td>9</td>\n",
              "      <td>211.782583</td>\n",
              "      <td>3082.019357</td>\n",
              "      <td>624.141124</td>\n",
              "      <td>91019.026218</td>\n",
              "      <td>74757.512626</td>\n",
              "      <td>16261.513592</td>\n",
              "    </tr>\n",
              "    <tr>\n",
              "      <th>1</th>\n",
              "      <td>52.774087</td>\n",
              "      <td>14.169074</td>\n",
              "      <td>7</td>\n",
              "      <td>200.762647</td>\n",
              "      <td>2844.620717</td>\n",
              "      <td>468.602126</td>\n",
              "      <td>65338.199471</td>\n",
              "      <td>74720.579873</td>\n",
              "      <td>-9382.380402</td>\n",
              "    </tr>\n",
              "    <tr>\n",
              "      <th>2</th>\n",
              "      <td>52.497483</td>\n",
              "      <td>14.486505</td>\n",
              "      <td>5</td>\n",
              "      <td>209.858838</td>\n",
              "      <td>3040.121191</td>\n",
              "      <td>334.919942</td>\n",
              "      <td>84974.970717</td>\n",
              "      <td>74750.994414</td>\n",
              "      <td>10223.976303</td>\n",
              "    </tr>\n",
              "    <tr>\n",
              "      <th>3</th>\n",
              "      <td>55.012830</td>\n",
              "      <td>15.776872</td>\n",
              "      <td>6</td>\n",
              "      <td>248.909683</td>\n",
              "      <td>3927.016155</td>\n",
              "      <td>424.738210</td>\n",
              "      <td>79080.958366</td>\n",
              "      <td>74888.971080</td>\n",
              "      <td>4191.987286</td>\n",
              "    </tr>\n",
              "    <tr>\n",
              "      <th>4</th>\n",
              "      <td>59.144511</td>\n",
              "      <td>16.275620</td>\n",
              "      <td>6</td>\n",
              "      <td>264.895815</td>\n",
              "      <td>4311.343690</td>\n",
              "      <td>452.520789</td>\n",
              "      <td>62774.559215</td>\n",
              "      <td>74948.761961</td>\n",
              "      <td>-12174.202746</td>\n",
              "    </tr>\n",
              "  </tbody>\n",
              "</table>\n",
              "</div>\n",
              "      <button class=\"colab-df-convert\" onclick=\"convertToInteractive('df-f8a45a9c-21fc-4e3e-bfe6-e8df515dd9a1')\"\n",
              "              title=\"Convert this dataframe to an interactive table.\"\n",
              "              style=\"display:none;\">\n",
              "        \n",
              "  <svg xmlns=\"http://www.w3.org/2000/svg\" height=\"24px\"viewBox=\"0 0 24 24\"\n",
              "       width=\"24px\">\n",
              "    <path d=\"M0 0h24v24H0V0z\" fill=\"none\"/>\n",
              "    <path d=\"M18.56 5.44l.94 2.06.94-2.06 2.06-.94-2.06-.94-.94-2.06-.94 2.06-2.06.94zm-11 1L8.5 8.5l.94-2.06 2.06-.94-2.06-.94L8.5 2.5l-.94 2.06-2.06.94zm10 10l.94 2.06.94-2.06 2.06-.94-2.06-.94-.94-2.06-.94 2.06-2.06.94z\"/><path d=\"M17.41 7.96l-1.37-1.37c-.4-.4-.92-.59-1.43-.59-.52 0-1.04.2-1.43.59L10.3 9.45l-7.72 7.72c-.78.78-.78 2.05 0 2.83L4 21.41c.39.39.9.59 1.41.59.51 0 1.02-.2 1.41-.59l7.78-7.78 2.81-2.81c.8-.78.8-2.07 0-2.86zM5.41 20L4 18.59l7.72-7.72 1.47 1.35L5.41 20z\"/>\n",
              "  </svg>\n",
              "      </button>\n",
              "      \n",
              "  <style>\n",
              "    .colab-df-container {\n",
              "      display:flex;\n",
              "      flex-wrap:wrap;\n",
              "      gap: 12px;\n",
              "    }\n",
              "\n",
              "    .colab-df-convert {\n",
              "      background-color: #E8F0FE;\n",
              "      border: none;\n",
              "      border-radius: 50%;\n",
              "      cursor: pointer;\n",
              "      display: none;\n",
              "      fill: #1967D2;\n",
              "      height: 32px;\n",
              "      padding: 0 0 0 0;\n",
              "      width: 32px;\n",
              "    }\n",
              "\n",
              "    .colab-df-convert:hover {\n",
              "      background-color: #E2EBFA;\n",
              "      box-shadow: 0px 1px 2px rgba(60, 64, 67, 0.3), 0px 1px 3px 1px rgba(60, 64, 67, 0.15);\n",
              "      fill: #174EA6;\n",
              "    }\n",
              "\n",
              "    [theme=dark] .colab-df-convert {\n",
              "      background-color: #3B4455;\n",
              "      fill: #D2E3FC;\n",
              "    }\n",
              "\n",
              "    [theme=dark] .colab-df-convert:hover {\n",
              "      background-color: #434B5C;\n",
              "      box-shadow: 0px 1px 3px 1px rgba(0, 0, 0, 0.15);\n",
              "      filter: drop-shadow(0px 1px 2px rgba(0, 0, 0, 0.3));\n",
              "      fill: #FFFFFF;\n",
              "    }\n",
              "  </style>\n",
              "\n",
              "      <script>\n",
              "        const buttonEl =\n",
              "          document.querySelector('#df-f8a45a9c-21fc-4e3e-bfe6-e8df515dd9a1 button.colab-df-convert');\n",
              "        buttonEl.style.display =\n",
              "          google.colab.kernel.accessAllowed ? 'block' : 'none';\n",
              "\n",
              "        async function convertToInteractive(key) {\n",
              "          const element = document.querySelector('#df-f8a45a9c-21fc-4e3e-bfe6-e8df515dd9a1');\n",
              "          const dataTable =\n",
              "            await google.colab.kernel.invokeFunction('convertToInteractive',\n",
              "                                                     [key], {});\n",
              "          if (!dataTable) return;\n",
              "\n",
              "          const docLinkHtml = 'Like what you see? Visit the ' +\n",
              "            '<a target=\"_blank\" href=https://colab.research.google.com/notebooks/data_table.ipynb>data table notebook</a>'\n",
              "            + ' to learn more about interactive tables.';\n",
              "          element.innerHTML = '';\n",
              "          dataTable['output_type'] = 'display_data';\n",
              "          await google.colab.output.renderOutput(dataTable, element);\n",
              "          const docLink = document.createElement('div');\n",
              "          docLink.innerHTML = docLinkHtml;\n",
              "          element.appendChild(docLink);\n",
              "        }\n",
              "      </script>\n",
              "    </div>\n",
              "  </div>\n",
              "  "
            ]
          },
          "metadata": {},
          "execution_count": 788
        }
      ]
    },
    {
      "cell_type": "code",
      "source": [
        "plt.scatter(Testset[\"CYearsExperience\"], Testset[\"Salary\"])\n",
        "plt.plot(Testset[\"CYearsExperience\"],Testset[\"Predicted Salary Using Sklearn method\"], color=\"green\")\n",
        "plt.ylabel(\"Salary\")\n",
        "plt.xlabel(\"Cubic Years of Experience\")\n",
        "plt.title(\"Linear Regression: Years of Education vS Corresponding Salary \")"
      ],
      "metadata": {
        "colab": {
          "base_uri": "https://localhost:8080/",
          "height": 312
        },
        "id": "u_O-Tu2MbOgt",
        "outputId": "9b5f9c43-176e-44ae-d888-eaa54f147de7"
      },
      "execution_count": 789,
      "outputs": [
        {
          "output_type": "execute_result",
          "data": {
            "text/plain": [
              "Text(0.5, 1.0, 'Linear Regression: Years of Education vS Corresponding Salary ')"
            ]
          },
          "metadata": {},
          "execution_count": 789
        },
        {
          "output_type": "display_data",
          "data": {
            "text/plain": [
              "<Figure size 432x288 with 1 Axes>"
            ],
            "image/png": "[encoded data removed]"
          },
          "metadata": {
            "needs_background": "light"
          }
        }
      ]
    },
    {
      "cell_type": "code",
      "source": [
        "m=lm.coef_"
      ],
      "metadata": {
        "id": "a6vOU8G2be8i"
      },
      "execution_count": 790,
      "outputs": []
    },
    {
      "cell_type": "code",
      "source": [
        "b=lm.intercept_"
      ],
      "metadata": {
        "id": "kTci53YzbhbD"
      },
      "execution_count": 791,
      "outputs": []
    },
    {
      "cell_type": "code",
      "source": [
        "#Testing for 7 years of education\n",
        "Salary = b + m * 7\n",
        "Salary"
      ],
      "metadata": {
        "colab": {
          "base_uri": "https://localhost:8080/"
        },
        "id": "9gqVVjQVbjaF",
        "outputId": "37a01c51-dbca-4c4b-e477-9cb72129ce98"
      },
      "execution_count": 792,
      "outputs": [
        {
          "output_type": "execute_result",
          "data": {
            "text/plain": [
              "array([[74279.12348905]])"
            ]
          },
          "metadata": {},
          "execution_count": 792
        }
      ]
    },
    {
      "cell_type": "code",
      "source": [
        "lm.predict([[7]])"
      ],
      "metadata": {
        "colab": {
          "base_uri": "https://localhost:8080/"
        },
        "id": "kxlyZu8pblv0",
        "outputId": "ece6a847-502f-47ca-c943-1250d83610e6"
      },
      "execution_count": 793,
      "outputs": [
        {
          "output_type": "stream",
          "name": "stderr",
          "text": [
            "/usr/local/lib/python3.7/dist-packages/sklearn/base.py:451: UserWarning: X does not have valid feature names, but LinearRegression was fitted with feature names\n",
            "  \"X does not have valid feature names, but\"\n"
          ]
        },
        {
          "output_type": "execute_result",
          "data": {
            "text/plain": [
              "array([[74279.12348905]])"
            ]
          },
          "metadata": {},
          "execution_count": 793
        }
      ]
    },
    {
      "cell_type": "code",
      "source": [
        "assert Salary == lm.predict([[7]])"
      ],
      "metadata": {
        "colab": {
          "base_uri": "https://localhost:8080/"
        },
        "id": "b7oQA3gfbobw",
        "outputId": "e0d954d5-304f-48a2-b310-32cd1c4de8ce"
      },
      "execution_count": 794,
      "outputs": [
        {
          "output_type": "stream",
          "name": "stderr",
          "text": [
            "/usr/local/lib/python3.7/dist-packages/sklearn/base.py:451: UserWarning: X does not have valid feature names, but LinearRegression was fitted with feature names\n",
            "  \"X does not have valid feature names, but\"\n"
          ]
        }
      ]
    }
  ],
  "metadata": {
    "colab": {
      "collapsed_sections": [],
      "name": "Salary_Prediction_AIE_B_Project_Sem1.ipynb",
      "provenance": [],
      "include_colab_link": true
    },
    "kernelspec": {
      "display_name": "Python 3",
      "name": "python3"
    },
    "language_info": {
      "name": "python"
    }
  },
  "nbformat": 4,
  "nbformat_minor": 0
}